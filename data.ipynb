{
 "metadata": {
  "language_info": {
   "codemirror_mode": {
    "name": "ipython",
    "version": 3
   },
   "file_extension": ".py",
   "mimetype": "text/x-python",
   "name": "python",
   "nbconvert_exporter": "python",
   "pygments_lexer": "ipython3",
   "version": "3.8.5-final"
  },
  "orig_nbformat": 2,
  "kernelspec": {
   "name": "python3",
   "display_name": "Python 3",
   "language": "python"
  }
 },
 "nbformat": 4,
 "nbformat_minor": 2,
 "cells": [
  {
   "source": [
    "#  Use Pandas to clean and format your data set(s)\n",
    "\n",
    "#  Create a Jupyter Notebook describing the data exploration and cleanup process\n",
    "\n",
    "#  Create a Jupyter Notebook illustrating the final data analysis\n",
    "\n",
    "#  Use Matplotlib to create a total of 6-8 visualizations of your data (ideally, at least 2 per \"question\" you ask of your data)\n",
    "\n",
    "#  Save PNG images of your visualizations to distribute to the class and instructional team, and for inclusion in your presentation\n",
    "\n",
    "#  Optionally, use at least one API, if you can find an API with data pertinent to your primary research questions\n",
    "\n",
    "#  Create a write-up summarizing your major findings. This should include a heading for each \"question\" you asked of your data, and under each heading, a short description of what you found and any relevant plots."
   ],
   "cell_type": "code",
   "metadata": {},
   "execution_count": null,
   "outputs": []
  },
  {
   "cell_type": "code",
   "execution_count": 31,
   "metadata": {},
   "outputs": [],
   "source": [
    "# import packages \n",
    "import pandas as pd"
   ]
  },
  {
   "cell_type": "code",
   "execution_count": 35,
   "metadata": {},
   "outputs": [
    {
     "output_type": "execute_result",
     "data": {
      "text/plain": [
       "    year                                       description   \\\n",
       "0   1851                           Black Thursday bushfires   \n",
       "1   1895                         Upper Blue Mountains fires   \n",
       "2   1898                              Red Tuesday bushfires   \n",
       "3   1926                                     1926 bushfires   \n",
       "4   1939                             Black Friday bushfires   \n",
       "..   ...                                                ...   \n",
       "79  2015                               2015 Pinery bushfire   \n",
       "80  2370     2016 Murray Road bushfire (Waroona and Harvey)   \n",
       "81  2017                     2017 New South Wales bushfires   \n",
       "82  2019                                    Tingha bushfire   \n",
       "83  2020  2019–20 Australian bushfire season (Black Summer)   \n",
       "\n",
       "                state  area burned ha  area burned acres  fatalities  \\\n",
       "0            Victoria       5000000.0         12000000.0        12.0   \n",
       "1     New South Wales           150.0              370.0         0.0   \n",
       "2            Victoria        260000.0           640000.0        12.0   \n",
       "3            Victoria        390000.0           960000.0        60.0   \n",
       "4            Victoria       2000000.0          4900000.0        71.0   \n",
       "..                ...             ...                ...         ...   \n",
       "79    South Australia         85000.0           210000.0         2.0   \n",
       "80  Western Australia         69165.0           170910.0         2.0   \n",
       "81    New South Wales         52000.0           130000.0         0.0   \n",
       "82    New South Wales         23419.0            57870.0         0.0   \n",
       "83         Nationwide      18626000.0         46030000.0        34.0   \n",
       "\n",
       "    homes destroyed  other buildings destroyed  cattle sheep  livestock  \\\n",
       "0               0.0                        0.0     1000000.0     2000.0   \n",
       "1              12.0                        1.0           NaN        NaN   \n",
       "2               0.0                     2000.0           NaN        NaN   \n",
       "3            1000.0                        0.0           NaN        NaN   \n",
       "4            3700.0                        0.0           NaN        NaN   \n",
       "..              ...                        ...           ...        ...   \n",
       "79             91.0                        0.0           NaN        NaN   \n",
       "80            181.0                        NaN           NaN        NaN   \n",
       "81             35.0                        0.0           NaN        NaN   \n",
       "82             19.0                       57.0           NaN        NaN   \n",
       "83           2600.0                     6000.0           NaN        NaN   \n",
       "\n",
       "   approx value loss  \n",
       "0                NaN  \n",
       "1                NaN  \n",
       "2                NaN  \n",
       "3                NaN  \n",
       "4                NaN  \n",
       "..               ...  \n",
       "79               NaN  \n",
       "80               NaN  \n",
       "81               NaN  \n",
       "82               NaN  \n",
       "83        2300000000  \n",
       "\n",
       "[84 rows x 11 columns]"
      ],
      "text/html": "<div>\n<style scoped>\n    .dataframe tbody tr th:only-of-type {\n        vertical-align: middle;\n    }\n\n    .dataframe tbody tr th {\n        vertical-align: top;\n    }\n\n    .dataframe thead th {\n        text-align: right;\n    }\n</style>\n<table border=\"1\" class=\"dataframe\">\n  <thead>\n    <tr style=\"text-align: right;\">\n      <th></th>\n      <th>year</th>\n      <th>description</th>\n      <th>state</th>\n      <th>area burned ha</th>\n      <th>area burned acres</th>\n      <th>fatalities</th>\n      <th>homes destroyed</th>\n      <th>other buildings destroyed</th>\n      <th>cattle sheep</th>\n      <th>livestock</th>\n      <th>approx value loss</th>\n    </tr>\n  </thead>\n  <tbody>\n    <tr>\n      <th>0</th>\n      <td>1851</td>\n      <td>Black Thursday bushfires</td>\n      <td>Victoria</td>\n      <td>5000000.0</td>\n      <td>12000000.0</td>\n      <td>12.0</td>\n      <td>0.0</td>\n      <td>0.0</td>\n      <td>1000000.0</td>\n      <td>2000.0</td>\n      <td>NaN</td>\n    </tr>\n    <tr>\n      <th>1</th>\n      <td>1895</td>\n      <td>Upper Blue Mountains fires</td>\n      <td>New South Wales</td>\n      <td>150.0</td>\n      <td>370.0</td>\n      <td>0.0</td>\n      <td>12.0</td>\n      <td>1.0</td>\n      <td>NaN</td>\n      <td>NaN</td>\n      <td>NaN</td>\n    </tr>\n    <tr>\n      <th>2</th>\n      <td>1898</td>\n      <td>Red Tuesday bushfires</td>\n      <td>Victoria</td>\n      <td>260000.0</td>\n      <td>640000.0</td>\n      <td>12.0</td>\n      <td>0.0</td>\n      <td>2000.0</td>\n      <td>NaN</td>\n      <td>NaN</td>\n      <td>NaN</td>\n    </tr>\n    <tr>\n      <th>3</th>\n      <td>1926</td>\n      <td>1926 bushfires</td>\n      <td>Victoria</td>\n      <td>390000.0</td>\n      <td>960000.0</td>\n      <td>60.0</td>\n      <td>1000.0</td>\n      <td>0.0</td>\n      <td>NaN</td>\n      <td>NaN</td>\n      <td>NaN</td>\n    </tr>\n    <tr>\n      <th>4</th>\n      <td>1939</td>\n      <td>Black Friday bushfires</td>\n      <td>Victoria</td>\n      <td>2000000.0</td>\n      <td>4900000.0</td>\n      <td>71.0</td>\n      <td>3700.0</td>\n      <td>0.0</td>\n      <td>NaN</td>\n      <td>NaN</td>\n      <td>NaN</td>\n    </tr>\n    <tr>\n      <th>...</th>\n      <td>...</td>\n      <td>...</td>\n      <td>...</td>\n      <td>...</td>\n      <td>...</td>\n      <td>...</td>\n      <td>...</td>\n      <td>...</td>\n      <td>...</td>\n      <td>...</td>\n      <td>...</td>\n    </tr>\n    <tr>\n      <th>79</th>\n      <td>2015</td>\n      <td>2015 Pinery bushfire</td>\n      <td>South Australia</td>\n      <td>85000.0</td>\n      <td>210000.0</td>\n      <td>2.0</td>\n      <td>91.0</td>\n      <td>0.0</td>\n      <td>NaN</td>\n      <td>NaN</td>\n      <td>NaN</td>\n    </tr>\n    <tr>\n      <th>80</th>\n      <td>2370</td>\n      <td>2016 Murray Road bushfire (Waroona and Harvey)</td>\n      <td>Western Australia</td>\n      <td>69165.0</td>\n      <td>170910.0</td>\n      <td>2.0</td>\n      <td>181.0</td>\n      <td>NaN</td>\n      <td>NaN</td>\n      <td>NaN</td>\n      <td>NaN</td>\n    </tr>\n    <tr>\n      <th>81</th>\n      <td>2017</td>\n      <td>2017 New South Wales bushfires</td>\n      <td>New South Wales</td>\n      <td>52000.0</td>\n      <td>130000.0</td>\n      <td>0.0</td>\n      <td>35.0</td>\n      <td>0.0</td>\n      <td>NaN</td>\n      <td>NaN</td>\n      <td>NaN</td>\n    </tr>\n    <tr>\n      <th>82</th>\n      <td>2019</td>\n      <td>Tingha bushfire</td>\n      <td>New South Wales</td>\n      <td>23419.0</td>\n      <td>57870.0</td>\n      <td>0.0</td>\n      <td>19.0</td>\n      <td>57.0</td>\n      <td>NaN</td>\n      <td>NaN</td>\n      <td>NaN</td>\n    </tr>\n    <tr>\n      <th>83</th>\n      <td>2020</td>\n      <td>2019–20 Australian bushfire season (Black Summer)</td>\n      <td>Nationwide</td>\n      <td>18626000.0</td>\n      <td>46030000.0</td>\n      <td>34.0</td>\n      <td>2600.0</td>\n      <td>6000.0</td>\n      <td>NaN</td>\n      <td>NaN</td>\n      <td>2300000000</td>\n    </tr>\n  </tbody>\n</table>\n<p>84 rows × 11 columns</p>\n</div>"
     },
     "metadata": {},
     "execution_count": 35
    }
   ],
   "source": [
    "# read data as csv\n",
    "file = '../DISNEY-DONUT-PROJECT/Resources/bushfire_data.csv'\n",
    "bushfire_df = pd.read_csv(file)\n",
    "bushfire_df"
   ]
  },
  {
   "cell_type": "code",
   "execution_count": 36,
   "metadata": {},
   "outputs": [
    {
     "output_type": "execute_result",
     "data": {
      "text/plain": [
       "year                           int64\n",
       "description                   object\n",
       "state                         object\n",
       "area burned ha               float64\n",
       "area burned acres            float64\n",
       "fatalities                   float64\n",
       "homes destroyed              float64\n",
       "other buildings destroyed    float64\n",
       "cattle sheep                 float64\n",
       "livestock                    float64\n",
       "approx value loss             object\n",
       "dtype: object"
      ]
     },
     "metadata": {},
     "execution_count": 36
    }
   ],
   "source": [
    "# check data that has number is a 'float', i.e. every variable except 'year', 'description' and 'state' should be a float\n",
    "bushfire_df.dtypes"
   ]
  },
  {
   "cell_type": "code",
   "execution_count": 34,
   "metadata": {},
   "outputs": [
    {
     "output_type": "execute_result",
     "data": {
      "text/plain": [
       "array([nan, '£1,000,000', '14000000', '3000000', '9000000', '13000000',\n",
       "       '176000000', '25000000', '12000000', '59100000', '59000000',\n",
       "       '29000000', '69000000', '350000000', '27700000', '22400000',\n",
       "       '1070000000', '35000000', '53000000', '87100000', '183400000',\n",
       "       '15000000', '2300000000'], dtype=object)"
      ]
     },
     "metadata": {},
     "execution_count": 34
    }
   ],
   "source": [
    "# check why variables are not a float \n",
    "\n",
    "# approx_value_loss\n",
    "bushfire_df['approx_value_loss'].unique()\n",
    "\n",
    "# a check of approx_value_loss suggests there is a data point that was included with a '£' \n",
    "# will leave for now because the value loss is reflected as the dollar value for that year and needs to be escalated by CPI to (at least) 2020 for analysis "
   ]
  },
  {
   "cell_type": "code",
   "execution_count": null,
   "metadata": {},
   "outputs": [],
   "source": []
  }
 ]
}