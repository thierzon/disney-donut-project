{
 "metadata": {
  "language_info": {
   "codemirror_mode": {
    "name": "ipython",
    "version": 3
   },
   "file_extension": ".py",
   "mimetype": "text/x-python",
   "name": "python",
   "nbconvert_exporter": "python",
   "pygments_lexer": "ipython3",
   "version": "3.8.5-final"
  },
  "orig_nbformat": 2,
  "kernelspec": {
   "name": "python3",
   "display_name": "Python 3",
   "language": "python"
  }
 },
 "nbformat": 4,
 "nbformat_minor": 2,
 "cells": [
  {
   "source": [
    "#  Use Pandas to clean and format your data set(s)\n",
    "\n",
    "#  Create a Jupyter Notebook describing the data exploration and cleanup process\n",
    "\n",
    "#  Create a Jupyter Notebook illustrating the final data analysis\n",
    "\n",
    "#  Use Matplotlib to create a total of 6-8 visualizations of your data (ideally, at least 2 per \"question\" you ask of your data)\n",
    "\n",
    "#  Save PNG images of your visualizations to distribute to the class and instructional team, and for inclusion in your presentation\n",
    "\n",
    "#  Optionally, use at least one API, if you can find an API with data pertinent to your primary research questions\n",
    "\n",
    "#  Create a write-up summarizing your major findings. This should include a heading for each \"question\" you asked of your data, and under each heading, a short description of what you found and any relevant plots."
   ],
   "cell_type": "code",
   "metadata": {},
   "execution_count": 1,
   "outputs": []
  },
  {
   "cell_type": "code",
   "execution_count": 2,
   "metadata": {},
   "outputs": [],
   "source": [
    "# import packages \n",
    "import pandas as pd\n",
    "import matplotlib.pyplot as plt\n",
    "import numpy as np "
   ]
  },
  {
   "cell_type": "code",
   "execution_count": 3,
   "metadata": {},
   "outputs": [
    {
     "output_type": "execute_result",
     "data": {
      "text/plain": [
       "    year                                       description   \\\n",
       "0   1851                           Black Thursday bushfires   \n",
       "1   1895                         Upper Blue Mountains fires   \n",
       "2   1898                              Red Tuesday bushfires   \n",
       "3   1926                                     1926 bushfires   \n",
       "4   1939                             Black Friday bushfires   \n",
       "..   ...                                                ...   \n",
       "79  2015                               2015 Pinery bushfire   \n",
       "80  2016     2016 Murray Road bushfire (Waroona and Harvey)   \n",
       "81  2017                     2017 New South Wales bushfires   \n",
       "82  2019                                    Tingha bushfire   \n",
       "83  2020  2019–20 Australian bushfire season (Black Summer)   \n",
       "\n",
       "                state  area burned ha  area burned acres  fatalities  \\\n",
       "0            Victoria       5000000.0         12000000.0        12.0   \n",
       "1     New South Wales           150.0              370.0         0.0   \n",
       "2            Victoria        260000.0           640000.0        12.0   \n",
       "3            Victoria        390000.0           960000.0        60.0   \n",
       "4            Victoria       2000000.0          4900000.0        71.0   \n",
       "..                ...             ...                ...         ...   \n",
       "79    South Australia         85000.0           210000.0         2.0   \n",
       "80  Western Australia         69165.0           170910.0         2.0   \n",
       "81    New South Wales         52000.0           130000.0         0.0   \n",
       "82    New South Wales         23419.0            57870.0         0.0   \n",
       "83         Nationwide      18626000.0         46030000.0        34.0   \n",
       "\n",
       "    homes destroyed  other buildings destroyed  cattle sheep  livestock  \\\n",
       "0               0.0                        0.0     1000000.0     2000.0   \n",
       "1              12.0                        1.0           NaN        NaN   \n",
       "2               0.0                     2000.0           NaN        NaN   \n",
       "3            1000.0                        0.0           NaN        NaN   \n",
       "4            3700.0                        0.0           NaN        NaN   \n",
       "..              ...                        ...           ...        ...   \n",
       "79             91.0                        0.0           NaN        NaN   \n",
       "80            181.0                        NaN           NaN        NaN   \n",
       "81             35.0                        0.0           NaN        NaN   \n",
       "82             19.0                       57.0           NaN        NaN   \n",
       "83           2600.0                     6000.0           NaN        NaN   \n",
       "\n",
       "   approx value loss  \n",
       "0                NaN  \n",
       "1                NaN  \n",
       "2                NaN  \n",
       "3                NaN  \n",
       "4                NaN  \n",
       "..               ...  \n",
       "79               NaN  \n",
       "80               NaN  \n",
       "81               NaN  \n",
       "82               NaN  \n",
       "83        2300000000  \n",
       "\n",
       "[84 rows x 11 columns]"
      ],
      "text/html": "<div>\n<style scoped>\n    .dataframe tbody tr th:only-of-type {\n        vertical-align: middle;\n    }\n\n    .dataframe tbody tr th {\n        vertical-align: top;\n    }\n\n    .dataframe thead th {\n        text-align: right;\n    }\n</style>\n<table border=\"1\" class=\"dataframe\">\n  <thead>\n    <tr style=\"text-align: right;\">\n      <th></th>\n      <th>year</th>\n      <th>description</th>\n      <th>state</th>\n      <th>area burned ha</th>\n      <th>area burned acres</th>\n      <th>fatalities</th>\n      <th>homes destroyed</th>\n      <th>other buildings destroyed</th>\n      <th>cattle sheep</th>\n      <th>livestock</th>\n      <th>approx value loss</th>\n    </tr>\n  </thead>\n  <tbody>\n    <tr>\n      <th>0</th>\n      <td>1851</td>\n      <td>Black Thursday bushfires</td>\n      <td>Victoria</td>\n      <td>5000000.0</td>\n      <td>12000000.0</td>\n      <td>12.0</td>\n      <td>0.0</td>\n      <td>0.0</td>\n      <td>1000000.0</td>\n      <td>2000.0</td>\n      <td>NaN</td>\n    </tr>\n    <tr>\n      <th>1</th>\n      <td>1895</td>\n      <td>Upper Blue Mountains fires</td>\n      <td>New South Wales</td>\n      <td>150.0</td>\n      <td>370.0</td>\n      <td>0.0</td>\n      <td>12.0</td>\n      <td>1.0</td>\n      <td>NaN</td>\n      <td>NaN</td>\n      <td>NaN</td>\n    </tr>\n    <tr>\n      <th>2</th>\n      <td>1898</td>\n      <td>Red Tuesday bushfires</td>\n      <td>Victoria</td>\n      <td>260000.0</td>\n      <td>640000.0</td>\n      <td>12.0</td>\n      <td>0.0</td>\n      <td>2000.0</td>\n      <td>NaN</td>\n      <td>NaN</td>\n      <td>NaN</td>\n    </tr>\n    <tr>\n      <th>3</th>\n      <td>1926</td>\n      <td>1926 bushfires</td>\n      <td>Victoria</td>\n      <td>390000.0</td>\n      <td>960000.0</td>\n      <td>60.0</td>\n      <td>1000.0</td>\n      <td>0.0</td>\n      <td>NaN</td>\n      <td>NaN</td>\n      <td>NaN</td>\n    </tr>\n    <tr>\n      <th>4</th>\n      <td>1939</td>\n      <td>Black Friday bushfires</td>\n      <td>Victoria</td>\n      <td>2000000.0</td>\n      <td>4900000.0</td>\n      <td>71.0</td>\n      <td>3700.0</td>\n      <td>0.0</td>\n      <td>NaN</td>\n      <td>NaN</td>\n      <td>NaN</td>\n    </tr>\n    <tr>\n      <th>...</th>\n      <td>...</td>\n      <td>...</td>\n      <td>...</td>\n      <td>...</td>\n      <td>...</td>\n      <td>...</td>\n      <td>...</td>\n      <td>...</td>\n      <td>...</td>\n      <td>...</td>\n      <td>...</td>\n    </tr>\n    <tr>\n      <th>79</th>\n      <td>2015</td>\n      <td>2015 Pinery bushfire</td>\n      <td>South Australia</td>\n      <td>85000.0</td>\n      <td>210000.0</td>\n      <td>2.0</td>\n      <td>91.0</td>\n      <td>0.0</td>\n      <td>NaN</td>\n      <td>NaN</td>\n      <td>NaN</td>\n    </tr>\n    <tr>\n      <th>80</th>\n      <td>2016</td>\n      <td>2016 Murray Road bushfire (Waroona and Harvey)</td>\n      <td>Western Australia</td>\n      <td>69165.0</td>\n      <td>170910.0</td>\n      <td>2.0</td>\n      <td>181.0</td>\n      <td>NaN</td>\n      <td>NaN</td>\n      <td>NaN</td>\n      <td>NaN</td>\n    </tr>\n    <tr>\n      <th>81</th>\n      <td>2017</td>\n      <td>2017 New South Wales bushfires</td>\n      <td>New South Wales</td>\n      <td>52000.0</td>\n      <td>130000.0</td>\n      <td>0.0</td>\n      <td>35.0</td>\n      <td>0.0</td>\n      <td>NaN</td>\n      <td>NaN</td>\n      <td>NaN</td>\n    </tr>\n    <tr>\n      <th>82</th>\n      <td>2019</td>\n      <td>Tingha bushfire</td>\n      <td>New South Wales</td>\n      <td>23419.0</td>\n      <td>57870.0</td>\n      <td>0.0</td>\n      <td>19.0</td>\n      <td>57.0</td>\n      <td>NaN</td>\n      <td>NaN</td>\n      <td>NaN</td>\n    </tr>\n    <tr>\n      <th>83</th>\n      <td>2020</td>\n      <td>2019–20 Australian bushfire season (Black Summer)</td>\n      <td>Nationwide</td>\n      <td>18626000.0</td>\n      <td>46030000.0</td>\n      <td>34.0</td>\n      <td>2600.0</td>\n      <td>6000.0</td>\n      <td>NaN</td>\n      <td>NaN</td>\n      <td>2300000000</td>\n    </tr>\n  </tbody>\n</table>\n<p>84 rows × 11 columns</p>\n</div>"
     },
     "metadata": {},
     "execution_count": 3
    }
   ],
   "source": [
    "# read data as csv\n",
    "file = '../DISNEY-DONUT-PROJECT/Resources/bushfire_data.csv'\n",
    "bushfire_df = pd.read_csv(file)\n",
    "bushfire_df"
   ]
  },
  {
   "cell_type": "code",
   "execution_count": 4,
   "metadata": {},
   "outputs": [
    {
     "output_type": "execute_result",
     "data": {
      "text/plain": [
       "year                           int64\n",
       "description                   object\n",
       "state                         object\n",
       "area burned ha               float64\n",
       "area burned acres            float64\n",
       "fatalities                   float64\n",
       "homes destroyed              float64\n",
       "other buildings destroyed    float64\n",
       "cattle sheep                 float64\n",
       "livestock                    float64\n",
       "approx value loss             object\n",
       "dtype: object"
      ]
     },
     "metadata": {},
     "execution_count": 4
    }
   ],
   "source": [
    "# check data that has number is a 'float', i.e. every variable except 'year', 'description' and 'state' should be a float\n",
    "bushfire_df.dtypes"
   ]
  },
  {
   "cell_type": "code",
   "execution_count": 5,
   "metadata": {},
   "outputs": [
    {
     "output_type": "execute_result",
     "data": {
      "text/plain": [
       "array([nan, '£1,000,000', '14000000', '3000000', '9000000', '13000000',\n",
       "       '176000000', '25000000', '12000000', '59100000', '59000000',\n",
       "       '29000000', '69000000', '350000000', '27700000', '22400000',\n",
       "       '1070000000', '35000000', '53000000', '87100000', '183400000',\n",
       "       '15000000', '2300000000'], dtype=object)"
      ]
     },
     "metadata": {},
     "execution_count": 5
    }
   ],
   "source": [
    "# check why variables are not a float \n",
    "\n",
    "# approx_value_loss\n",
    "bushfire_df['approx value loss'].unique()\n",
    "\n",
    "# a check of approx value loss suggests there is a data point that was included with a '£' \n",
    "# will leave for now because the value loss is reflected as the dollar value for that year and needs to be escalated by CPI to (at least) 2020 for analysis "
   ]
  },
  {
   "cell_type": "code",
   "execution_count": 6,
   "metadata": {},
   "outputs": [
    {
     "output_type": "execute_result",
     "data": {
      "text/plain": [
       "state\n",
       "Australian Capital Territory     1\n",
       "Nationwide                       1\n",
       "Queensland                       2\n",
       "Tasmania                         3\n",
       "Northern Territory               4\n",
       "South Australia                  9\n",
       "Western Australia               18\n",
       "Victoria                        19\n",
       "New South Wales                 27\n",
       "Name: year, dtype: int64"
      ]
     },
     "metadata": {},
     "execution_count": 6
    }
   ],
   "source": [
    "# check timeseries \n",
    "\n",
    "bushfire_df.groupby('state').count()['year'].sort_values()"
   ]
  },
  {
   "cell_type": "code",
   "execution_count": 7,
   "metadata": {},
   "outputs": [
    {
     "output_type": "execute_result",
     "data": {
      "text/plain": [
       "8"
      ]
     },
     "metadata": {},
     "execution_count": 7
    }
   ],
   "source": [
    "# proxy for the severity of bushfire is 'area burned ha'\n",
    "# check na's in these two variables \n",
    "\n",
    "bushfire_df['area burned ha'].isnull().sum()"
   ]
  },
  {
   "cell_type": "code",
   "execution_count": 8,
   "metadata": {},
   "outputs": [
    {
     "output_type": "execute_result",
     "data": {
      "text/plain": [
       "year                          0\n",
       "description                   0\n",
       "state                         0\n",
       "area burned ha                0\n",
       "area burned acres            13\n",
       "fatalities                    8\n",
       "homes destroyed               6\n",
       "other buildings destroyed    10\n",
       "cattle sheep                 73\n",
       "livestock                    68\n",
       "approx value loss            52\n",
       "dtype: int64"
      ]
     },
     "metadata": {},
     "execution_count": 8
    }
   ],
   "source": [
    "# create dataframe that does not have any nulls for 'area burned ha'\n",
    "\n",
    "area_burnt_df = bushfire_df.dropna(subset = ['area burned ha'])\n",
    "area_burnt_df.isnull().sum()"
   ]
  },
  {
   "cell_type": "code",
   "execution_count": 9,
   "metadata": {},
   "outputs": [
    {
     "output_type": "execute_result",
     "data": {
      "text/plain": [
       "    year                                       description   \\\n",
       "0   1851                           Black Thursday bushfires   \n",
       "1   1895                         Upper Blue Mountains fires   \n",
       "2   1898                              Red Tuesday bushfires   \n",
       "3   1926                                     1926 bushfires   \n",
       "4   1939                             Black Friday bushfires   \n",
       "..   ...                                                ...   \n",
       "79  2015                               2015 Pinery bushfire   \n",
       "80  2016     2016 Murray Road bushfire (Waroona and Harvey)   \n",
       "81  2017                     2017 New South Wales bushfires   \n",
       "82  2019                                    Tingha bushfire   \n",
       "83  2020  2019–20 Australian bushfire season (Black Summer)   \n",
       "\n",
       "                state  area burned ha  area burned acres  fatalities  \\\n",
       "0            Victoria       5000000.0         12000000.0        12.0   \n",
       "1     New South Wales           150.0              370.0         0.0   \n",
       "2            Victoria        260000.0           640000.0        12.0   \n",
       "3            Victoria        390000.0           960000.0        60.0   \n",
       "4            Victoria       2000000.0          4900000.0        71.0   \n",
       "..                ...             ...                ...         ...   \n",
       "79    South Australia         85000.0           210000.0         2.0   \n",
       "80  Western Australia         69165.0           170910.0         2.0   \n",
       "81    New South Wales         52000.0           130000.0         0.0   \n",
       "82    New South Wales         23419.0            57870.0         0.0   \n",
       "83         Nationwide      18626000.0         46030000.0        34.0   \n",
       "\n",
       "    homes destroyed  other buildings destroyed  cattle sheep  livestock  \\\n",
       "0               0.0                        0.0     1000000.0     2000.0   \n",
       "1              12.0                        1.0           NaN        NaN   \n",
       "2               0.0                     2000.0           NaN        NaN   \n",
       "3            1000.0                        0.0           NaN        NaN   \n",
       "4            3700.0                        0.0           NaN        NaN   \n",
       "..              ...                        ...           ...        ...   \n",
       "79             91.0                        0.0           NaN        NaN   \n",
       "80            181.0                        NaN           NaN        NaN   \n",
       "81             35.0                        0.0           NaN        NaN   \n",
       "82             19.0                       57.0           NaN        NaN   \n",
       "83           2600.0                     6000.0           NaN        NaN   \n",
       "\n",
       "   approx value loss  \n",
       "0                NaN  \n",
       "1                NaN  \n",
       "2                NaN  \n",
       "3                NaN  \n",
       "4                NaN  \n",
       "..               ...  \n",
       "79               NaN  \n",
       "80               NaN  \n",
       "81               NaN  \n",
       "82               NaN  \n",
       "83        2300000000  \n",
       "\n",
       "[76 rows x 11 columns]"
      ],
      "text/html": "<div>\n<style scoped>\n    .dataframe tbody tr th:only-of-type {\n        vertical-align: middle;\n    }\n\n    .dataframe tbody tr th {\n        vertical-align: top;\n    }\n\n    .dataframe thead th {\n        text-align: right;\n    }\n</style>\n<table border=\"1\" class=\"dataframe\">\n  <thead>\n    <tr style=\"text-align: right;\">\n      <th></th>\n      <th>year</th>\n      <th>description</th>\n      <th>state</th>\n      <th>area burned ha</th>\n      <th>area burned acres</th>\n      <th>fatalities</th>\n      <th>homes destroyed</th>\n      <th>other buildings destroyed</th>\n      <th>cattle sheep</th>\n      <th>livestock</th>\n      <th>approx value loss</th>\n    </tr>\n  </thead>\n  <tbody>\n    <tr>\n      <th>0</th>\n      <td>1851</td>\n      <td>Black Thursday bushfires</td>\n      <td>Victoria</td>\n      <td>5000000.0</td>\n      <td>12000000.0</td>\n      <td>12.0</td>\n      <td>0.0</td>\n      <td>0.0</td>\n      <td>1000000.0</td>\n      <td>2000.0</td>\n      <td>NaN</td>\n    </tr>\n    <tr>\n      <th>1</th>\n      <td>1895</td>\n      <td>Upper Blue Mountains fires</td>\n      <td>New South Wales</td>\n      <td>150.0</td>\n      <td>370.0</td>\n      <td>0.0</td>\n      <td>12.0</td>\n      <td>1.0</td>\n      <td>NaN</td>\n      <td>NaN</td>\n      <td>NaN</td>\n    </tr>\n    <tr>\n      <th>2</th>\n      <td>1898</td>\n      <td>Red Tuesday bushfires</td>\n      <td>Victoria</td>\n      <td>260000.0</td>\n      <td>640000.0</td>\n      <td>12.0</td>\n      <td>0.0</td>\n      <td>2000.0</td>\n      <td>NaN</td>\n      <td>NaN</td>\n      <td>NaN</td>\n    </tr>\n    <tr>\n      <th>3</th>\n      <td>1926</td>\n      <td>1926 bushfires</td>\n      <td>Victoria</td>\n      <td>390000.0</td>\n      <td>960000.0</td>\n      <td>60.0</td>\n      <td>1000.0</td>\n      <td>0.0</td>\n      <td>NaN</td>\n      <td>NaN</td>\n      <td>NaN</td>\n    </tr>\n    <tr>\n      <th>4</th>\n      <td>1939</td>\n      <td>Black Friday bushfires</td>\n      <td>Victoria</td>\n      <td>2000000.0</td>\n      <td>4900000.0</td>\n      <td>71.0</td>\n      <td>3700.0</td>\n      <td>0.0</td>\n      <td>NaN</td>\n      <td>NaN</td>\n      <td>NaN</td>\n    </tr>\n    <tr>\n      <th>...</th>\n      <td>...</td>\n      <td>...</td>\n      <td>...</td>\n      <td>...</td>\n      <td>...</td>\n      <td>...</td>\n      <td>...</td>\n      <td>...</td>\n      <td>...</td>\n      <td>...</td>\n      <td>...</td>\n    </tr>\n    <tr>\n      <th>79</th>\n      <td>2015</td>\n      <td>2015 Pinery bushfire</td>\n      <td>South Australia</td>\n      <td>85000.0</td>\n      <td>210000.0</td>\n      <td>2.0</td>\n      <td>91.0</td>\n      <td>0.0</td>\n      <td>NaN</td>\n      <td>NaN</td>\n      <td>NaN</td>\n    </tr>\n    <tr>\n      <th>80</th>\n      <td>2016</td>\n      <td>2016 Murray Road bushfire (Waroona and Harvey)</td>\n      <td>Western Australia</td>\n      <td>69165.0</td>\n      <td>170910.0</td>\n      <td>2.0</td>\n      <td>181.0</td>\n      <td>NaN</td>\n      <td>NaN</td>\n      <td>NaN</td>\n      <td>NaN</td>\n    </tr>\n    <tr>\n      <th>81</th>\n      <td>2017</td>\n      <td>2017 New South Wales bushfires</td>\n      <td>New South Wales</td>\n      <td>52000.0</td>\n      <td>130000.0</td>\n      <td>0.0</td>\n      <td>35.0</td>\n      <td>0.0</td>\n      <td>NaN</td>\n      <td>NaN</td>\n      <td>NaN</td>\n    </tr>\n    <tr>\n      <th>82</th>\n      <td>2019</td>\n      <td>Tingha bushfire</td>\n      <td>New South Wales</td>\n      <td>23419.0</td>\n      <td>57870.0</td>\n      <td>0.0</td>\n      <td>19.0</td>\n      <td>57.0</td>\n      <td>NaN</td>\n      <td>NaN</td>\n      <td>NaN</td>\n    </tr>\n    <tr>\n      <th>83</th>\n      <td>2020</td>\n      <td>2019–20 Australian bushfire season (Black Summer)</td>\n      <td>Nationwide</td>\n      <td>18626000.0</td>\n      <td>46030000.0</td>\n      <td>34.0</td>\n      <td>2600.0</td>\n      <td>6000.0</td>\n      <td>NaN</td>\n      <td>NaN</td>\n      <td>2300000000</td>\n    </tr>\n  </tbody>\n</table>\n<p>76 rows × 11 columns</p>\n</div>"
     },
     "metadata": {},
     "execution_count": 9
    }
   ],
   "source": [
    "area_burnt_df"
   ]
  },
  {
   "cell_type": "code",
   "execution_count": 19,
   "metadata": {},
   "outputs": [
    {
     "output_type": "execute_result",
     "data": {
      "text/plain": [
       "      area burned ha  area burned acres  fatalities  homes destroyed  \\\n",
       "year                                                                   \n",
       "1851       5000000.0         12000000.0        12.0              0.0   \n",
       "1895           150.0              370.0         0.0             12.0   \n",
       "1898        260000.0           640000.0        12.0              0.0   \n",
       "1926        390000.0           960000.0        60.0           1000.0   \n",
       "1939       2000000.0          4900000.0        71.0           3700.0   \n",
       "1944       1000000.0          2500000.0        20.0            500.0   \n",
       "1952       4000000.0          9900000.0        11.0              0.0   \n",
       "1955        160000.0           395000.0         2.0             40.0   \n",
       "1957       2000000.0                0.0         4.0            158.0   \n",
       "1961       1800000.0          4400000.0         0.0            160.0   \n",
       "1965        566000.0          1400000.0         3.0             79.0   \n",
       "1967        264000.0           650000.0        62.0           1293.0   \n",
       "1968      41500000.0         99000000.0        14.0            150.0   \n",
       "1969        250000.0                0.0        22.0            230.0   \n",
       "1970      45000000.0        110000000.0         0.0              0.0   \n",
       "1975     101800000.0        248000000.0         6.0              0.0   \n",
       "1977        157000.0           380000.0         6.0            165.0   \n",
       "1978        114000.0           280000.0         2.0              0.0   \n",
       "1979         50000.0                0.0         5.0             28.0   \n",
       "1980       1008000.0          2500000.0         5.0             65.0   \n",
       "1983        478000.0          1030000.0        78.0           2400.0   \n",
       "1984        500000.0          1200000.0         0.0              0.0   \n",
       "1985       3050800.0          7526000.0         8.0            180.0   \n",
       "1994        805000.0           990000.0         4.0            248.0   \n",
       "1997        533900.0            83990.0         6.0             69.0   \n",
       "1998           780.0                0.0         5.0              0.0   \n",
       "2001        753314.0          1861480.0         0.0            121.0   \n",
       "2002      38000000.0         94000000.0         0.0              0.0   \n",
       "2003       3570000.0          8800000.0         6.0            541.0   \n",
       "2005        290337.0           722070.0        13.0            151.0   \n",
       "2006        223000.0           546000.0         2.0              7.0   \n",
       "2007       3855000.0          6349000.0        11.0            201.0   \n",
       "2009        450000.0          1100000.0       173.0           2029.0   \n",
       "2011         60090.0                0.0         0.0            356.0   \n",
       "2012        800000.0          2000000.0         0.0              0.0   \n",
       "2013        194000.0           429000.0         2.0            261.0   \n",
       "2014           650.0                0.0         1.0              0.0   \n",
       "2015        414739.0          1020190.0         6.0            130.0   \n",
       "2016         69165.0           170910.0         2.0            181.0   \n",
       "2017         52000.0           130000.0         0.0             35.0   \n",
       "2019         23419.0            57870.0         0.0             19.0   \n",
       "2020      18626000.0         46030000.0        34.0           2600.0   \n",
       "\n",
       "      other buildings destroyed  cattle sheep  livestock  \n",
       "year                                                      \n",
       "1851                        0.0     1000000.0     2000.0  \n",
       "1895                        1.0           0.0        0.0  \n",
       "1898                     2000.0           0.0        0.0  \n",
       "1926                        0.0           0.0        0.0  \n",
       "1939                        0.0           0.0        0.0  \n",
       "1944                        0.0           0.0        0.0  \n",
       "1952                        0.0           0.0        0.0  \n",
       "1955                        0.0           0.0        0.0  \n",
       "1957                       12.0           0.0        0.0  \n",
       "1961                        0.0           0.0        0.0  \n",
       "1965                       60.0           0.0     4000.0  \n",
       "1967                        0.0           0.0        0.0  \n",
       "1968                        5.0           0.0        0.0  \n",
       "1969                       21.0           0.0    12000.0  \n",
       "1970                        0.0           0.0        0.0  \n",
       "1975                        0.0        6850.0    57095.0  \n",
       "1977                      340.0           0.0        0.0  \n",
       "1978                        6.0           0.0        0.0  \n",
       "1979                        0.0           0.0        0.0  \n",
       "1980                        1.0           0.0        0.0  \n",
       "1983                        0.0           0.0    19300.0  \n",
       "1984                        0.0           0.0        0.0  \n",
       "1985                        0.0           0.0    40000.0  \n",
       "1994                        0.0           0.0        0.0  \n",
       "1997                        0.0           0.0        0.0  \n",
       "1998                        0.0           0.0        0.0  \n",
       "2001                        0.0           0.0        0.0  \n",
       "2002                        0.0           0.0        0.0  \n",
       "2003                      213.0           0.0        0.0  \n",
       "2005                      360.0       63243.0     1021.0  \n",
       "2006                        6.0           0.0        0.0  \n",
       "2007                       20.0           0.0        0.0  \n",
       "2009                     2000.0           0.0        0.0  \n",
       "2011                        1.0           0.0        0.0  \n",
       "2012                        0.0           0.0        0.0  \n",
       "2013                      328.0           0.0        0.0  \n",
       "2014                        0.0           0.0        0.0  \n",
       "2015                      145.0           0.0        0.0  \n",
       "2016                        0.0           0.0        0.0  \n",
       "2017                        0.0           0.0        0.0  \n",
       "2019                       57.0           0.0        0.0  \n",
       "2020                     6000.0           0.0        0.0  "
      ],
      "text/html": "<div>\n<style scoped>\n    .dataframe tbody tr th:only-of-type {\n        vertical-align: middle;\n    }\n\n    .dataframe tbody tr th {\n        vertical-align: top;\n    }\n\n    .dataframe thead th {\n        text-align: right;\n    }\n</style>\n<table border=\"1\" class=\"dataframe\">\n  <thead>\n    <tr style=\"text-align: right;\">\n      <th></th>\n      <th>area burned ha</th>\n      <th>area burned acres</th>\n      <th>fatalities</th>\n      <th>homes destroyed</th>\n      <th>other buildings destroyed</th>\n      <th>cattle sheep</th>\n      <th>livestock</th>\n    </tr>\n    <tr>\n      <th>year</th>\n      <th></th>\n      <th></th>\n      <th></th>\n      <th></th>\n      <th></th>\n      <th></th>\n      <th></th>\n    </tr>\n  </thead>\n  <tbody>\n    <tr>\n      <th>1851</th>\n      <td>5000000.0</td>\n      <td>12000000.0</td>\n      <td>12.0</td>\n      <td>0.0</td>\n      <td>0.0</td>\n      <td>1000000.0</td>\n      <td>2000.0</td>\n    </tr>\n    <tr>\n      <th>1895</th>\n      <td>150.0</td>\n      <td>370.0</td>\n      <td>0.0</td>\n      <td>12.0</td>\n      <td>1.0</td>\n      <td>0.0</td>\n      <td>0.0</td>\n    </tr>\n    <tr>\n      <th>1898</th>\n      <td>260000.0</td>\n      <td>640000.0</td>\n      <td>12.0</td>\n      <td>0.0</td>\n      <td>2000.0</td>\n      <td>0.0</td>\n      <td>0.0</td>\n    </tr>\n    <tr>\n      <th>1926</th>\n      <td>390000.0</td>\n      <td>960000.0</td>\n      <td>60.0</td>\n      <td>1000.0</td>\n      <td>0.0</td>\n      <td>0.0</td>\n      <td>0.0</td>\n    </tr>\n    <tr>\n      <th>1939</th>\n      <td>2000000.0</td>\n      <td>4900000.0</td>\n      <td>71.0</td>\n      <td>3700.0</td>\n      <td>0.0</td>\n      <td>0.0</td>\n      <td>0.0</td>\n    </tr>\n    <tr>\n      <th>1944</th>\n      <td>1000000.0</td>\n      <td>2500000.0</td>\n      <td>20.0</td>\n      <td>500.0</td>\n      <td>0.0</td>\n      <td>0.0</td>\n      <td>0.0</td>\n    </tr>\n    <tr>\n      <th>1952</th>\n      <td>4000000.0</td>\n      <td>9900000.0</td>\n      <td>11.0</td>\n      <td>0.0</td>\n      <td>0.0</td>\n      <td>0.0</td>\n      <td>0.0</td>\n    </tr>\n    <tr>\n      <th>1955</th>\n      <td>160000.0</td>\n      <td>395000.0</td>\n      <td>2.0</td>\n      <td>40.0</td>\n      <td>0.0</td>\n      <td>0.0</td>\n      <td>0.0</td>\n    </tr>\n    <tr>\n      <th>1957</th>\n      <td>2000000.0</td>\n      <td>0.0</td>\n      <td>4.0</td>\n      <td>158.0</td>\n      <td>12.0</td>\n      <td>0.0</td>\n      <td>0.0</td>\n    </tr>\n    <tr>\n      <th>1961</th>\n      <td>1800000.0</td>\n      <td>4400000.0</td>\n      <td>0.0</td>\n      <td>160.0</td>\n      <td>0.0</td>\n      <td>0.0</td>\n      <td>0.0</td>\n    </tr>\n    <tr>\n      <th>1965</th>\n      <td>566000.0</td>\n      <td>1400000.0</td>\n      <td>3.0</td>\n      <td>79.0</td>\n      <td>60.0</td>\n      <td>0.0</td>\n      <td>4000.0</td>\n    </tr>\n    <tr>\n      <th>1967</th>\n      <td>264000.0</td>\n      <td>650000.0</td>\n      <td>62.0</td>\n      <td>1293.0</td>\n      <td>0.0</td>\n      <td>0.0</td>\n      <td>0.0</td>\n    </tr>\n    <tr>\n      <th>1968</th>\n      <td>41500000.0</td>\n      <td>99000000.0</td>\n      <td>14.0</td>\n      <td>150.0</td>\n      <td>5.0</td>\n      <td>0.0</td>\n      <td>0.0</td>\n    </tr>\n    <tr>\n      <th>1969</th>\n      <td>250000.0</td>\n      <td>0.0</td>\n      <td>22.0</td>\n      <td>230.0</td>\n      <td>21.0</td>\n      <td>0.0</td>\n      <td>12000.0</td>\n    </tr>\n    <tr>\n      <th>1970</th>\n      <td>45000000.0</td>\n      <td>110000000.0</td>\n      <td>0.0</td>\n      <td>0.0</td>\n      <td>0.0</td>\n      <td>0.0</td>\n      <td>0.0</td>\n    </tr>\n    <tr>\n      <th>1975</th>\n      <td>101800000.0</td>\n      <td>248000000.0</td>\n      <td>6.0</td>\n      <td>0.0</td>\n      <td>0.0</td>\n      <td>6850.0</td>\n      <td>57095.0</td>\n    </tr>\n    <tr>\n      <th>1977</th>\n      <td>157000.0</td>\n      <td>380000.0</td>\n      <td>6.0</td>\n      <td>165.0</td>\n      <td>340.0</td>\n      <td>0.0</td>\n      <td>0.0</td>\n    </tr>\n    <tr>\n      <th>1978</th>\n      <td>114000.0</td>\n      <td>280000.0</td>\n      <td>2.0</td>\n      <td>0.0</td>\n      <td>6.0</td>\n      <td>0.0</td>\n      <td>0.0</td>\n    </tr>\n    <tr>\n      <th>1979</th>\n      <td>50000.0</td>\n      <td>0.0</td>\n      <td>5.0</td>\n      <td>28.0</td>\n      <td>0.0</td>\n      <td>0.0</td>\n      <td>0.0</td>\n    </tr>\n    <tr>\n      <th>1980</th>\n      <td>1008000.0</td>\n      <td>2500000.0</td>\n      <td>5.0</td>\n      <td>65.0</td>\n      <td>1.0</td>\n      <td>0.0</td>\n      <td>0.0</td>\n    </tr>\n    <tr>\n      <th>1983</th>\n      <td>478000.0</td>\n      <td>1030000.0</td>\n      <td>78.0</td>\n      <td>2400.0</td>\n      <td>0.0</td>\n      <td>0.0</td>\n      <td>19300.0</td>\n    </tr>\n    <tr>\n      <th>1984</th>\n      <td>500000.0</td>\n      <td>1200000.0</td>\n      <td>0.0</td>\n      <td>0.0</td>\n      <td>0.0</td>\n      <td>0.0</td>\n      <td>0.0</td>\n    </tr>\n    <tr>\n      <th>1985</th>\n      <td>3050800.0</td>\n      <td>7526000.0</td>\n      <td>8.0</td>\n      <td>180.0</td>\n      <td>0.0</td>\n      <td>0.0</td>\n      <td>40000.0</td>\n    </tr>\n    <tr>\n      <th>1994</th>\n      <td>805000.0</td>\n      <td>990000.0</td>\n      <td>4.0</td>\n      <td>248.0</td>\n      <td>0.0</td>\n      <td>0.0</td>\n      <td>0.0</td>\n    </tr>\n    <tr>\n      <th>1997</th>\n      <td>533900.0</td>\n      <td>83990.0</td>\n      <td>6.0</td>\n      <td>69.0</td>\n      <td>0.0</td>\n      <td>0.0</td>\n      <td>0.0</td>\n    </tr>\n    <tr>\n      <th>1998</th>\n      <td>780.0</td>\n      <td>0.0</td>\n      <td>5.0</td>\n      <td>0.0</td>\n      <td>0.0</td>\n      <td>0.0</td>\n      <td>0.0</td>\n    </tr>\n    <tr>\n      <th>2001</th>\n      <td>753314.0</td>\n      <td>1861480.0</td>\n      <td>0.0</td>\n      <td>121.0</td>\n      <td>0.0</td>\n      <td>0.0</td>\n      <td>0.0</td>\n    </tr>\n    <tr>\n      <th>2002</th>\n      <td>38000000.0</td>\n      <td>94000000.0</td>\n      <td>0.0</td>\n      <td>0.0</td>\n      <td>0.0</td>\n      <td>0.0</td>\n      <td>0.0</td>\n    </tr>\n    <tr>\n      <th>2003</th>\n      <td>3570000.0</td>\n      <td>8800000.0</td>\n      <td>6.0</td>\n      <td>541.0</td>\n      <td>213.0</td>\n      <td>0.0</td>\n      <td>0.0</td>\n    </tr>\n    <tr>\n      <th>2005</th>\n      <td>290337.0</td>\n      <td>722070.0</td>\n      <td>13.0</td>\n      <td>151.0</td>\n      <td>360.0</td>\n      <td>63243.0</td>\n      <td>1021.0</td>\n    </tr>\n    <tr>\n      <th>2006</th>\n      <td>223000.0</td>\n      <td>546000.0</td>\n      <td>2.0</td>\n      <td>7.0</td>\n      <td>6.0</td>\n      <td>0.0</td>\n      <td>0.0</td>\n    </tr>\n    <tr>\n      <th>2007</th>\n      <td>3855000.0</td>\n      <td>6349000.0</td>\n      <td>11.0</td>\n      <td>201.0</td>\n      <td>20.0</td>\n      <td>0.0</td>\n      <td>0.0</td>\n    </tr>\n    <tr>\n      <th>2009</th>\n      <td>450000.0</td>\n      <td>1100000.0</td>\n      <td>173.0</td>\n      <td>2029.0</td>\n      <td>2000.0</td>\n      <td>0.0</td>\n      <td>0.0</td>\n    </tr>\n    <tr>\n      <th>2011</th>\n      <td>60090.0</td>\n      <td>0.0</td>\n      <td>0.0</td>\n      <td>356.0</td>\n      <td>1.0</td>\n      <td>0.0</td>\n      <td>0.0</td>\n    </tr>\n    <tr>\n      <th>2012</th>\n      <td>800000.0</td>\n      <td>2000000.0</td>\n      <td>0.0</td>\n      <td>0.0</td>\n      <td>0.0</td>\n      <td>0.0</td>\n      <td>0.0</td>\n    </tr>\n    <tr>\n      <th>2013</th>\n      <td>194000.0</td>\n      <td>429000.0</td>\n      <td>2.0</td>\n      <td>261.0</td>\n      <td>328.0</td>\n      <td>0.0</td>\n      <td>0.0</td>\n    </tr>\n    <tr>\n      <th>2014</th>\n      <td>650.0</td>\n      <td>0.0</td>\n      <td>1.0</td>\n      <td>0.0</td>\n      <td>0.0</td>\n      <td>0.0</td>\n      <td>0.0</td>\n    </tr>\n    <tr>\n      <th>2015</th>\n      <td>414739.0</td>\n      <td>1020190.0</td>\n      <td>6.0</td>\n      <td>130.0</td>\n      <td>145.0</td>\n      <td>0.0</td>\n      <td>0.0</td>\n    </tr>\n    <tr>\n      <th>2016</th>\n      <td>69165.0</td>\n      <td>170910.0</td>\n      <td>2.0</td>\n      <td>181.0</td>\n      <td>0.0</td>\n      <td>0.0</td>\n      <td>0.0</td>\n    </tr>\n    <tr>\n      <th>2017</th>\n      <td>52000.0</td>\n      <td>130000.0</td>\n      <td>0.0</td>\n      <td>35.0</td>\n      <td>0.0</td>\n      <td>0.0</td>\n      <td>0.0</td>\n    </tr>\n    <tr>\n      <th>2019</th>\n      <td>23419.0</td>\n      <td>57870.0</td>\n      <td>0.0</td>\n      <td>19.0</td>\n      <td>57.0</td>\n      <td>0.0</td>\n      <td>0.0</td>\n    </tr>\n    <tr>\n      <th>2020</th>\n      <td>18626000.0</td>\n      <td>46030000.0</td>\n      <td>34.0</td>\n      <td>2600.0</td>\n      <td>6000.0</td>\n      <td>0.0</td>\n      <td>0.0</td>\n    </tr>\n  </tbody>\n</table>\n</div>"
     },
     "metadata": {},
     "execution_count": 19
    }
   ],
   "source": [
    "fires_df = area_burnt_df.groupby('year').sum()\n",
    "fires_df"
   ]
  },
  {
   "cell_type": "code",
   "execution_count": 17,
   "metadata": {},
   "outputs": [
    {
     "output_type": "display_data",
     "data": {
      "text/plain": "<Figure size 432x288 with 1 Axes>",
      "image/svg+xml": "<?xml version=\"1.0\" encoding=\"utf-8\" standalone=\"no\"?>\n<!DOCTYPE svg PUBLIC \"-//W3C//DTD SVG 1.1//EN\"\n  \"http://www.w3.org/Graphics/SVG/1.1/DTD/svg11.dtd\">\n<!-- Created with matplotlib (https://matplotlib.org/) -->\n<svg height=\"259.116562pt\" version=\"1.1\" viewBox=\"0 0 378.614784 259.116562\" width=\"378.614784pt\" xmlns=\"http://www.w3.org/2000/svg\" xmlns:xlink=\"http://www.w3.org/1999/xlink\">\n <metadata>\n  <rdf:RDF xmlns:cc=\"http://creativecommons.org/ns#\" xmlns:dc=\"http://purl.org/dc/elements/1.1/\" xmlns:rdf=\"http://www.w3.org/1999/02/22-rdf-syntax-ns#\">\n   <cc:Work>\n    <dc:type rdf:resource=\"http://purl.org/dc/dcmitype/StillImage\"/>\n    <dc:date>2021-02-04T20:42:18.273718</dc:date>\n    <dc:format>image/svg+xml</dc:format>\n    <dc:creator>\n     <cc:Agent>\n      <dc:title>Matplotlib v3.3.2, https://matplotlib.org/</dc:title>\n     </cc:Agent>\n    </dc:creator>\n   </cc:Work>\n  </rdf:RDF>\n </metadata>\n <defs>\n  <style type=\"text/css\">*{stroke-linecap:butt;stroke-linejoin:round;}</style>\n </defs>\n <g id=\"figure_1\">\n  <g id=\"patch_1\">\n   <path d=\"M 0 259.116562 \nL 378.614784 259.116562 \nL 378.614784 0 \nL 0 0 \nz\n\" style=\"fill:none;\"/>\n  </g>\n  <g id=\"axes_1\">\n   <g id=\"patch_2\">\n    <path d=\"M 30.103125 235.238437 \nL 364.903125 235.238437 \nL 364.903125 17.798437 \nL 30.103125 17.798437 \nz\n\" style=\"fill:#ffffff;\"/>\n   </g>\n   <g id=\"matplotlib.axis_1\">\n    <g id=\"xtick_1\">\n     <g id=\"line2d_1\">\n      <defs>\n       <path d=\"M 0 0 \nL 0 3.5 \n\" id=\"m3d9c90496b\" style=\"stroke:#000000;stroke-width:0.8;\"/>\n      </defs>\n      <g>\n       <use style=\"stroke:#000000;stroke-width:0.8;\" x=\"43.520339\" xlink:href=\"#m3d9c90496b\" y=\"235.238437\"/>\n      </g>\n     </g>\n     <g id=\"text_1\">\n      <!-- 1850 -->\n      <g transform=\"translate(30.795339 249.836875)scale(0.1 -0.1)\">\n       <defs>\n        <path d=\"M 12.40625 8.296875 \nL 28.515625 8.296875 \nL 28.515625 63.921875 \nL 10.984375 60.40625 \nL 10.984375 69.390625 \nL 28.421875 72.90625 \nL 38.28125 72.90625 \nL 38.28125 8.296875 \nL 54.390625 8.296875 \nL 54.390625 0 \nL 12.40625 0 \nz\n\" id=\"DejaVuSans-49\"/>\n        <path d=\"M 31.78125 34.625 \nQ 24.75 34.625 20.71875 30.859375 \nQ 16.703125 27.09375 16.703125 20.515625 \nQ 16.703125 13.921875 20.71875 10.15625 \nQ 24.75 6.390625 31.78125 6.390625 \nQ 38.8125 6.390625 42.859375 10.171875 \nQ 46.921875 13.96875 46.921875 20.515625 \nQ 46.921875 27.09375 42.890625 30.859375 \nQ 38.875 34.625 31.78125 34.625 \nz\nM 21.921875 38.8125 \nQ 15.578125 40.375 12.03125 44.71875 \nQ 8.5 49.078125 8.5 55.328125 \nQ 8.5 64.0625 14.71875 69.140625 \nQ 20.953125 74.21875 31.78125 74.21875 \nQ 42.671875 74.21875 48.875 69.140625 \nQ 55.078125 64.0625 55.078125 55.328125 \nQ 55.078125 49.078125 51.53125 44.71875 \nQ 48 40.375 41.703125 38.8125 \nQ 48.828125 37.15625 52.796875 32.3125 \nQ 56.78125 27.484375 56.78125 20.515625 \nQ 56.78125 9.90625 50.3125 4.234375 \nQ 43.84375 -1.421875 31.78125 -1.421875 \nQ 19.734375 -1.421875 13.25 4.234375 \nQ 6.78125 9.90625 6.78125 20.515625 \nQ 6.78125 27.484375 10.78125 32.3125 \nQ 14.796875 37.15625 21.921875 38.8125 \nz\nM 18.3125 54.390625 \nQ 18.3125 48.734375 21.84375 45.5625 \nQ 25.390625 42.390625 31.78125 42.390625 \nQ 38.140625 42.390625 41.71875 45.5625 \nQ 45.3125 48.734375 45.3125 54.390625 \nQ 45.3125 60.0625 41.71875 63.234375 \nQ 38.140625 66.40625 31.78125 66.40625 \nQ 25.390625 66.40625 21.84375 63.234375 \nQ 18.3125 60.0625 18.3125 54.390625 \nz\n\" id=\"DejaVuSans-56\"/>\n        <path d=\"M 10.796875 72.90625 \nL 49.515625 72.90625 \nL 49.515625 64.59375 \nL 19.828125 64.59375 \nL 19.828125 46.734375 \nQ 21.96875 47.46875 24.109375 47.828125 \nQ 26.265625 48.1875 28.421875 48.1875 \nQ 40.625 48.1875 47.75 41.5 \nQ 54.890625 34.8125 54.890625 23.390625 \nQ 54.890625 11.625 47.5625 5.09375 \nQ 40.234375 -1.421875 26.90625 -1.421875 \nQ 22.3125 -1.421875 17.546875 -0.640625 \nQ 12.796875 0.140625 7.71875 1.703125 \nL 7.71875 11.625 \nQ 12.109375 9.234375 16.796875 8.0625 \nQ 21.484375 6.890625 26.703125 6.890625 \nQ 35.15625 6.890625 40.078125 11.328125 \nQ 45.015625 15.765625 45.015625 23.390625 \nQ 45.015625 31 40.078125 35.4375 \nQ 35.15625 39.890625 26.703125 39.890625 \nQ 22.75 39.890625 18.8125 39.015625 \nQ 14.890625 38.140625 10.796875 36.28125 \nz\n\" id=\"DejaVuSans-53\"/>\n        <path d=\"M 31.78125 66.40625 \nQ 24.171875 66.40625 20.328125 58.90625 \nQ 16.5 51.421875 16.5 36.375 \nQ 16.5 21.390625 20.328125 13.890625 \nQ 24.171875 6.390625 31.78125 6.390625 \nQ 39.453125 6.390625 43.28125 13.890625 \nQ 47.125 21.390625 47.125 36.375 \nQ 47.125 51.421875 43.28125 58.90625 \nQ 39.453125 66.40625 31.78125 66.40625 \nz\nM 31.78125 74.21875 \nQ 44.046875 74.21875 50.515625 64.515625 \nQ 56.984375 54.828125 56.984375 36.375 \nQ 56.984375 17.96875 50.515625 8.265625 \nQ 44.046875 -1.421875 31.78125 -1.421875 \nQ 19.53125 -1.421875 13.0625 8.265625 \nQ 6.59375 17.96875 6.59375 36.375 \nQ 6.59375 54.828125 13.0625 64.515625 \nQ 19.53125 74.21875 31.78125 74.21875 \nz\n\" id=\"DejaVuSans-48\"/>\n       </defs>\n       <use xlink:href=\"#DejaVuSans-49\"/>\n       <use x=\"63.623047\" xlink:href=\"#DejaVuSans-56\"/>\n       <use x=\"127.246094\" xlink:href=\"#DejaVuSans-53\"/>\n       <use x=\"190.869141\" xlink:href=\"#DejaVuSans-48\"/>\n      </g>\n     </g>\n    </g>\n    <g id=\"xtick_2\">\n     <g id=\"line2d_2\">\n      <g>\n       <use style=\"stroke:#000000;stroke-width:0.8;\" x=\"88.544545\" xlink:href=\"#m3d9c90496b\" y=\"235.238437\"/>\n      </g>\n     </g>\n     <g id=\"text_2\">\n      <!-- 1875 -->\n      <g transform=\"translate(75.819545 249.836875)scale(0.1 -0.1)\">\n       <defs>\n        <path d=\"M 8.203125 72.90625 \nL 55.078125 72.90625 \nL 55.078125 68.703125 \nL 28.609375 0 \nL 18.3125 0 \nL 43.21875 64.59375 \nL 8.203125 64.59375 \nz\n\" id=\"DejaVuSans-55\"/>\n       </defs>\n       <use xlink:href=\"#DejaVuSans-49\"/>\n       <use x=\"63.623047\" xlink:href=\"#DejaVuSans-56\"/>\n       <use x=\"127.246094\" xlink:href=\"#DejaVuSans-55\"/>\n       <use x=\"190.869141\" xlink:href=\"#DejaVuSans-53\"/>\n      </g>\n     </g>\n    </g>\n    <g id=\"xtick_3\">\n     <g id=\"line2d_3\">\n      <g>\n       <use style=\"stroke:#000000;stroke-width:0.8;\" x=\"133.568752\" xlink:href=\"#m3d9c90496b\" y=\"235.238437\"/>\n      </g>\n     </g>\n     <g id=\"text_3\">\n      <!-- 1900 -->\n      <g transform=\"translate(120.843752 249.836875)scale(0.1 -0.1)\">\n       <defs>\n        <path d=\"M 10.984375 1.515625 \nL 10.984375 10.5 \nQ 14.703125 8.734375 18.5 7.8125 \nQ 22.3125 6.890625 25.984375 6.890625 \nQ 35.75 6.890625 40.890625 13.453125 \nQ 46.046875 20.015625 46.78125 33.40625 \nQ 43.953125 29.203125 39.59375 26.953125 \nQ 35.25 24.703125 29.984375 24.703125 \nQ 19.046875 24.703125 12.671875 31.3125 \nQ 6.296875 37.9375 6.296875 49.421875 \nQ 6.296875 60.640625 12.9375 67.421875 \nQ 19.578125 74.21875 30.609375 74.21875 \nQ 43.265625 74.21875 49.921875 64.515625 \nQ 56.59375 54.828125 56.59375 36.375 \nQ 56.59375 19.140625 48.40625 8.859375 \nQ 40.234375 -1.421875 26.421875 -1.421875 \nQ 22.703125 -1.421875 18.890625 -0.6875 \nQ 15.09375 0.046875 10.984375 1.515625 \nz\nM 30.609375 32.421875 \nQ 37.25 32.421875 41.125 36.953125 \nQ 45.015625 41.5 45.015625 49.421875 \nQ 45.015625 57.28125 41.125 61.84375 \nQ 37.25 66.40625 30.609375 66.40625 \nQ 23.96875 66.40625 20.09375 61.84375 \nQ 16.21875 57.28125 16.21875 49.421875 \nQ 16.21875 41.5 20.09375 36.953125 \nQ 23.96875 32.421875 30.609375 32.421875 \nz\n\" id=\"DejaVuSans-57\"/>\n       </defs>\n       <use xlink:href=\"#DejaVuSans-49\"/>\n       <use x=\"63.623047\" xlink:href=\"#DejaVuSans-57\"/>\n       <use x=\"127.246094\" xlink:href=\"#DejaVuSans-48\"/>\n       <use x=\"190.869141\" xlink:href=\"#DejaVuSans-48\"/>\n      </g>\n     </g>\n    </g>\n    <g id=\"xtick_4\">\n     <g id=\"line2d_4\">\n      <g>\n       <use style=\"stroke:#000000;stroke-width:0.8;\" x=\"178.592958\" xlink:href=\"#m3d9c90496b\" y=\"235.238437\"/>\n      </g>\n     </g>\n     <g id=\"text_4\">\n      <!-- 1925 -->\n      <g transform=\"translate(165.867958 249.836875)scale(0.1 -0.1)\">\n       <defs>\n        <path d=\"M 19.1875 8.296875 \nL 53.609375 8.296875 \nL 53.609375 0 \nL 7.328125 0 \nL 7.328125 8.296875 \nQ 12.9375 14.109375 22.625 23.890625 \nQ 32.328125 33.6875 34.8125 36.53125 \nQ 39.546875 41.84375 41.421875 45.53125 \nQ 43.3125 49.21875 43.3125 52.78125 \nQ 43.3125 58.59375 39.234375 62.25 \nQ 35.15625 65.921875 28.609375 65.921875 \nQ 23.96875 65.921875 18.8125 64.3125 \nQ 13.671875 62.703125 7.8125 59.421875 \nL 7.8125 69.390625 \nQ 13.765625 71.78125 18.9375 73 \nQ 24.125 74.21875 28.421875 74.21875 \nQ 39.75 74.21875 46.484375 68.546875 \nQ 53.21875 62.890625 53.21875 53.421875 \nQ 53.21875 48.921875 51.53125 44.890625 \nQ 49.859375 40.875 45.40625 35.40625 \nQ 44.1875 33.984375 37.640625 27.21875 \nQ 31.109375 20.453125 19.1875 8.296875 \nz\n\" id=\"DejaVuSans-50\"/>\n       </defs>\n       <use xlink:href=\"#DejaVuSans-49\"/>\n       <use x=\"63.623047\" xlink:href=\"#DejaVuSans-57\"/>\n       <use x=\"127.246094\" xlink:href=\"#DejaVuSans-50\"/>\n       <use x=\"190.869141\" xlink:href=\"#DejaVuSans-53\"/>\n      </g>\n     </g>\n    </g>\n    <g id=\"xtick_5\">\n     <g id=\"line2d_5\">\n      <g>\n       <use style=\"stroke:#000000;stroke-width:0.8;\" x=\"223.617165\" xlink:href=\"#m3d9c90496b\" y=\"235.238437\"/>\n      </g>\n     </g>\n     <g id=\"text_5\">\n      <!-- 1950 -->\n      <g transform=\"translate(210.892165 249.836875)scale(0.1 -0.1)\">\n       <use xlink:href=\"#DejaVuSans-49\"/>\n       <use x=\"63.623047\" xlink:href=\"#DejaVuSans-57\"/>\n       <use x=\"127.246094\" xlink:href=\"#DejaVuSans-53\"/>\n       <use x=\"190.869141\" xlink:href=\"#DejaVuSans-48\"/>\n      </g>\n     </g>\n    </g>\n    <g id=\"xtick_6\">\n     <g id=\"line2d_6\">\n      <g>\n       <use style=\"stroke:#000000;stroke-width:0.8;\" x=\"268.641371\" xlink:href=\"#m3d9c90496b\" y=\"235.238437\"/>\n      </g>\n     </g>\n     <g id=\"text_6\">\n      <!-- 1975 -->\n      <g transform=\"translate(255.916371 249.836875)scale(0.1 -0.1)\">\n       <use xlink:href=\"#DejaVuSans-49\"/>\n       <use x=\"63.623047\" xlink:href=\"#DejaVuSans-57\"/>\n       <use x=\"127.246094\" xlink:href=\"#DejaVuSans-55\"/>\n       <use x=\"190.869141\" xlink:href=\"#DejaVuSans-53\"/>\n      </g>\n     </g>\n    </g>\n    <g id=\"xtick_7\">\n     <g id=\"line2d_7\">\n      <g>\n       <use style=\"stroke:#000000;stroke-width:0.8;\" x=\"313.665578\" xlink:href=\"#m3d9c90496b\" y=\"235.238437\"/>\n      </g>\n     </g>\n     <g id=\"text_7\">\n      <!-- 2000 -->\n      <g transform=\"translate(300.940578 249.836875)scale(0.1 -0.1)\">\n       <use xlink:href=\"#DejaVuSans-50\"/>\n       <use x=\"63.623047\" xlink:href=\"#DejaVuSans-48\"/>\n       <use x=\"127.246094\" xlink:href=\"#DejaVuSans-48\"/>\n       <use x=\"190.869141\" xlink:href=\"#DejaVuSans-48\"/>\n      </g>\n     </g>\n    </g>\n    <g id=\"xtick_8\">\n     <g id=\"line2d_8\">\n      <g>\n       <use style=\"stroke:#000000;stroke-width:0.8;\" x=\"358.689784\" xlink:href=\"#m3d9c90496b\" y=\"235.238437\"/>\n      </g>\n     </g>\n     <g id=\"text_8\">\n      <!-- 2025 -->\n      <g transform=\"translate(345.964784 249.836875)scale(0.1 -0.1)\">\n       <use xlink:href=\"#DejaVuSans-50\"/>\n       <use x=\"63.623047\" xlink:href=\"#DejaVuSans-48\"/>\n       <use x=\"127.246094\" xlink:href=\"#DejaVuSans-50\"/>\n       <use x=\"190.869141\" xlink:href=\"#DejaVuSans-53\"/>\n      </g>\n     </g>\n    </g>\n   </g>\n   <g id=\"matplotlib.axis_2\">\n    <g id=\"ytick_1\">\n     <g id=\"line2d_9\">\n      <defs>\n       <path d=\"M 0 0 \nL -3.5 0 \n\" id=\"m0a3f8f4cdf\" style=\"stroke:#000000;stroke-width:0.8;\"/>\n      </defs>\n      <g>\n       <use style=\"stroke:#000000;stroke-width:0.8;\" x=\"30.103125\" xlink:href=\"#m0a3f8f4cdf\" y=\"225.355092\"/>\n      </g>\n     </g>\n     <g id=\"text_9\">\n      <!-- 0.0 -->\n      <g transform=\"translate(7.2 229.154311)scale(0.1 -0.1)\">\n       <defs>\n        <path d=\"M 10.6875 12.40625 \nL 21 12.40625 \nL 21 0 \nL 10.6875 0 \nz\n\" id=\"DejaVuSans-46\"/>\n       </defs>\n       <use xlink:href=\"#DejaVuSans-48\"/>\n       <use x=\"63.623047\" xlink:href=\"#DejaVuSans-46\"/>\n       <use x=\"95.410156\" xlink:href=\"#DejaVuSans-48\"/>\n      </g>\n     </g>\n    </g>\n    <g id=\"ytick_2\">\n     <g id=\"line2d_10\">\n      <g>\n       <use style=\"stroke:#000000;stroke-width:0.8;\" x=\"30.103125\" xlink:href=\"#m0a3f8f4cdf\" y=\"186.519529\"/>\n      </g>\n     </g>\n     <g id=\"text_10\">\n      <!-- 0.2 -->\n      <g transform=\"translate(7.2 190.318748)scale(0.1 -0.1)\">\n       <use xlink:href=\"#DejaVuSans-48\"/>\n       <use x=\"63.623047\" xlink:href=\"#DejaVuSans-46\"/>\n       <use x=\"95.410156\" xlink:href=\"#DejaVuSans-50\"/>\n      </g>\n     </g>\n    </g>\n    <g id=\"ytick_3\">\n     <g id=\"line2d_11\">\n      <g>\n       <use style=\"stroke:#000000;stroke-width:0.8;\" x=\"30.103125\" xlink:href=\"#m0a3f8f4cdf\" y=\"147.683965\"/>\n      </g>\n     </g>\n     <g id=\"text_11\">\n      <!-- 0.4 -->\n      <g transform=\"translate(7.2 151.483184)scale(0.1 -0.1)\">\n       <defs>\n        <path d=\"M 37.796875 64.3125 \nL 12.890625 25.390625 \nL 37.796875 25.390625 \nz\nM 35.203125 72.90625 \nL 47.609375 72.90625 \nL 47.609375 25.390625 \nL 58.015625 25.390625 \nL 58.015625 17.1875 \nL 47.609375 17.1875 \nL 47.609375 0 \nL 37.796875 0 \nL 37.796875 17.1875 \nL 4.890625 17.1875 \nL 4.890625 26.703125 \nz\n\" id=\"DejaVuSans-52\"/>\n       </defs>\n       <use xlink:href=\"#DejaVuSans-48\"/>\n       <use x=\"63.623047\" xlink:href=\"#DejaVuSans-46\"/>\n       <use x=\"95.410156\" xlink:href=\"#DejaVuSans-52\"/>\n      </g>\n     </g>\n    </g>\n    <g id=\"ytick_4\">\n     <g id=\"line2d_12\">\n      <g>\n       <use style=\"stroke:#000000;stroke-width:0.8;\" x=\"30.103125\" xlink:href=\"#m0a3f8f4cdf\" y=\"108.848402\"/>\n      </g>\n     </g>\n     <g id=\"text_12\">\n      <!-- 0.6 -->\n      <g transform=\"translate(7.2 112.64762)scale(0.1 -0.1)\">\n       <defs>\n        <path d=\"M 33.015625 40.375 \nQ 26.375 40.375 22.484375 35.828125 \nQ 18.609375 31.296875 18.609375 23.390625 \nQ 18.609375 15.53125 22.484375 10.953125 \nQ 26.375 6.390625 33.015625 6.390625 \nQ 39.65625 6.390625 43.53125 10.953125 \nQ 47.40625 15.53125 47.40625 23.390625 \nQ 47.40625 31.296875 43.53125 35.828125 \nQ 39.65625 40.375 33.015625 40.375 \nz\nM 52.59375 71.296875 \nL 52.59375 62.3125 \nQ 48.875 64.0625 45.09375 64.984375 \nQ 41.3125 65.921875 37.59375 65.921875 \nQ 27.828125 65.921875 22.671875 59.328125 \nQ 17.53125 52.734375 16.796875 39.40625 \nQ 19.671875 43.65625 24.015625 45.921875 \nQ 28.375 48.1875 33.59375 48.1875 \nQ 44.578125 48.1875 50.953125 41.515625 \nQ 57.328125 34.859375 57.328125 23.390625 \nQ 57.328125 12.15625 50.6875 5.359375 \nQ 44.046875 -1.421875 33.015625 -1.421875 \nQ 20.359375 -1.421875 13.671875 8.265625 \nQ 6.984375 17.96875 6.984375 36.375 \nQ 6.984375 53.65625 15.1875 63.9375 \nQ 23.390625 74.21875 37.203125 74.21875 \nQ 40.921875 74.21875 44.703125 73.484375 \nQ 48.484375 72.75 52.59375 71.296875 \nz\n\" id=\"DejaVuSans-54\"/>\n       </defs>\n       <use xlink:href=\"#DejaVuSans-48\"/>\n       <use x=\"63.623047\" xlink:href=\"#DejaVuSans-46\"/>\n       <use x=\"95.410156\" xlink:href=\"#DejaVuSans-54\"/>\n      </g>\n     </g>\n    </g>\n    <g id=\"ytick_5\">\n     <g id=\"line2d_13\">\n      <g>\n       <use style=\"stroke:#000000;stroke-width:0.8;\" x=\"30.103125\" xlink:href=\"#m0a3f8f4cdf\" y=\"70.012838\"/>\n      </g>\n     </g>\n     <g id=\"text_13\">\n      <!-- 0.8 -->\n      <g transform=\"translate(7.2 73.812057)scale(0.1 -0.1)\">\n       <use xlink:href=\"#DejaVuSans-48\"/>\n       <use x=\"63.623047\" xlink:href=\"#DejaVuSans-46\"/>\n       <use x=\"95.410156\" xlink:href=\"#DejaVuSans-56\"/>\n      </g>\n     </g>\n    </g>\n    <g id=\"ytick_6\">\n     <g id=\"line2d_14\">\n      <g>\n       <use style=\"stroke:#000000;stroke-width:0.8;\" x=\"30.103125\" xlink:href=\"#m0a3f8f4cdf\" y=\"31.177275\"/>\n      </g>\n     </g>\n     <g id=\"text_14\">\n      <!-- 1.0 -->\n      <g transform=\"translate(7.2 34.976493)scale(0.1 -0.1)\">\n       <use xlink:href=\"#DejaVuSans-49\"/>\n       <use x=\"63.623047\" xlink:href=\"#DejaVuSans-46\"/>\n       <use x=\"95.410156\" xlink:href=\"#DejaVuSans-48\"/>\n      </g>\n     </g>\n    </g>\n    <g id=\"text_15\">\n     <!-- 1e8 -->\n     <g transform=\"translate(30.103125 14.798437)scale(0.1 -0.1)\">\n      <defs>\n       <path d=\"M 56.203125 29.59375 \nL 56.203125 25.203125 \nL 14.890625 25.203125 \nQ 15.484375 15.921875 20.484375 11.0625 \nQ 25.484375 6.203125 34.421875 6.203125 \nQ 39.59375 6.203125 44.453125 7.46875 \nQ 49.3125 8.734375 54.109375 11.28125 \nL 54.109375 2.78125 \nQ 49.265625 0.734375 44.1875 -0.34375 \nQ 39.109375 -1.421875 33.890625 -1.421875 \nQ 20.796875 -1.421875 13.15625 6.1875 \nQ 5.515625 13.8125 5.515625 26.8125 \nQ 5.515625 40.234375 12.765625 48.109375 \nQ 20.015625 56 32.328125 56 \nQ 43.359375 56 49.78125 48.890625 \nQ 56.203125 41.796875 56.203125 29.59375 \nz\nM 47.21875 32.234375 \nQ 47.125 39.59375 43.09375 43.984375 \nQ 39.0625 48.390625 32.421875 48.390625 \nQ 24.90625 48.390625 20.390625 44.140625 \nQ 15.875 39.890625 15.1875 32.171875 \nz\n\" id=\"DejaVuSans-101\"/>\n      </defs>\n      <use xlink:href=\"#DejaVuSans-49\"/>\n      <use x=\"63.623047\" xlink:href=\"#DejaVuSans-101\"/>\n      <use x=\"125.146484\" xlink:href=\"#DejaVuSans-56\"/>\n     </g>\n    </g>\n   </g>\n   <g id=\"line2d_15\">\n    <path clip-path=\"url(#p537f86102f)\" d=\"M 45.321307 215.646202 \nL 124.56391 225.354801 \nL 129.966815 224.85023 \nL 180.393927 224.597799 \nL 203.806514 221.471536 \nL 212.811355 223.413314 \nL 227.219101 217.58798 \nL 232.622006 225.044408 \nL 236.223943 221.471536 \nL 243.427816 221.859892 \nL 250.631689 224.256046 \nL 254.233625 224.842463 \nL 256.034594 144.771298 \nL 257.835562 224.869648 \nL 259.63653 137.975074 \nL 268.641371 27.682074 \nL 272.243308 225.050233 \nL 274.044276 225.13373 \nL 275.845244 225.258003 \nL 277.646213 223.39778 \nL 283.049117 224.426922 \nL 284.850086 224.384203 \nL 286.651054 219.431116 \nL 302.859768 223.791961 \nL 308.262673 224.318377 \nL 310.063641 225.353578 \nL 315.466546 223.892324 \nL 317.267514 151.567522 \nL 319.068483 218.422944 \nL 322.670419 224.791322 \nL 324.471388 224.922076 \nL 326.272356 217.869538 \nL 329.874292 224.481292 \nL 333.476229 225.238411 \nL 335.277197 223.80167 \nL 337.078165 224.978387 \nL 338.879134 225.35383 \nL 340.680102 224.549761 \nL 342.48107 225.220789 \nL 344.282038 225.25412 \nL 347.883975 225.309618 \nL 349.684943 189.187532 \n\" style=\"fill:none;stroke:#0000ff;stroke-linecap:square;stroke-width:1.5;\"/>\n   </g>\n   <g id=\"patch_3\">\n    <path d=\"M 30.103125 235.238437 \nL 30.103125 17.798437 \n\" style=\"fill:none;stroke:#000000;stroke-linecap:square;stroke-linejoin:miter;stroke-width:0.8;\"/>\n   </g>\n   <g id=\"patch_4\">\n    <path d=\"M 364.903125 235.238437 \nL 364.903125 17.798437 \n\" style=\"fill:none;stroke:#000000;stroke-linecap:square;stroke-linejoin:miter;stroke-width:0.8;\"/>\n   </g>\n   <g id=\"patch_5\">\n    <path d=\"M 30.103125 235.238437 \nL 364.903125 235.238437 \n\" style=\"fill:none;stroke:#000000;stroke-linecap:square;stroke-linejoin:miter;stroke-width:0.8;\"/>\n   </g>\n   <g id=\"patch_6\">\n    <path d=\"M 30.103125 17.798437 \nL 364.903125 17.798437 \n\" style=\"fill:none;stroke:#000000;stroke-linecap:square;stroke-linejoin:miter;stroke-width:0.8;\"/>\n   </g>\n  </g>\n </g>\n <defs>\n  <clipPath id=\"p537f86102f\">\n   <rect height=\"217.44\" width=\"334.8\" x=\"30.103125\" y=\"17.798437\"/>\n  </clipPath>\n </defs>\n</svg>\n",
      "image/png": "[encoded data removed]"
     },
     "metadata": {
      "needs_background": "light"
     }
    }
   ],
   "source": [
    "# Set x axis and tick locations\n",
    "\n",
    "total_burnt = fires_df['area burned ha']\n",
    "plt.plot(total_burnt, color=\"blue\")\n",
    "plt.show()\n",
    "\n",
    "# plt.xlabel(\"Time\")\n",
    "# plt.ylabel(\"Area burned (ha)\")\n",
    "# plt.title(\"Area burned overtiem\")\n",
    "# plt.xlim(0,50)\n"
   ]
  },
  {
   "cell_type": "code",
   "execution_count": null,
   "metadata": {},
   "outputs": [],
   "source": []
  },
  {
   "cell_type": "code",
   "execution_count": 21,
   "metadata": {},
   "outputs": [
    {
     "output_type": "execute_result",
     "data": {
      "text/plain": [
       "year                          0\n",
       "description                   0\n",
       "state                         0\n",
       "area burned ha                0\n",
       "area burned acres             8\n",
       "fatalities                    4\n",
       "homes destroyed               1\n",
       "other buildings destroyed     3\n",
       "cattle sheep                 23\n",
       "livestock                    21\n",
       "approx value loss             0\n",
       "dtype: int64"
      ]
     },
     "metadata": {},
     "execution_count": 21
    }
   ],
   "source": [
    "# create dataframe that does not have any nulls for 'approx value loss'\n",
    "\n",
    "value_loss_df = bushfire_df.dropna(subset =  ['area burned ha', 'approx value loss'])\n",
    "value_loss_df.isnull().sum()"
   ]
  },
  {
   "cell_type": "code",
   "execution_count": 22,
   "metadata": {},
   "outputs": [
    {
     "output_type": "execute_result",
     "data": {
      "text/plain": [
       "    year                                       description   \\\n",
       "9   1957         1957 Grose Valley bushfire, Blue Mountains   \n",
       "15  1967                            Black Tuesday bushfires   \n",
       "17  1968                       1968 Blue Mountains Bushfire   \n",
       "25  1977                        Western Districts bushfires   \n",
       "30  1980                                    Mt Lofty Ranges   \n",
       "31  1983                               Grays Point bushfire   \n",
       "32  1983                            Ash Wednesday bushfires   \n",
       "35  1985                1984 - 85 New South Wales bushfires   \n",
       "38  1994  Beerburrum State Forest and urban fires along ...   \n",
       "39  1994                        1994 Eastern seaboard fires   \n",
       "41  1997                                Dandenongs bushfire   \n",
       "46  2001                          Black Christmas bushfires   \n",
       "48  2003                            2003 Canberra bushfires   \n",
       "49  2003            2003 Eastern Victorian alpine bushfires   \n",
       "51  2005                       2005 Eyre Peninsula bushfire   \n",
       "53  2005                           2005 Victorian bushfires   \n",
       "65  2009                           Black Saturday bushfires   \n",
       "66  2011                Perth Hills, Western Australia 2011   \n",
       "67  2011                   Augusta and Margaret River fires   \n",
       "68  2013                                Tasmanian bushfires   \n",
       "69  2013                              Warrumbungle bushfire   \n",
       "70  2013                     2013 New South Wales bushfires   \n",
       "72  2014                Preth Hills, Western Australia 2014   \n",
       "83  2020  2019–20 Australian bushfire season (Black Summer)   \n",
       "\n",
       "                           state  area burned ha  area burned acres  \\\n",
       "9                New South Wales       2000000.0                NaN   \n",
       "15                      Tasmania        264000.0           650000.0   \n",
       "17               New South Wales       1500000.0                NaN   \n",
       "25                      Victoria        103000.0           250000.0   \n",
       "30               South Australia          8000.0                NaN   \n",
       "31               New South Wales         60000.0                NaN   \n",
       "32               South Australia        418000.0          1030000.0   \n",
       "35               New South Wales       2484000.0          6120000.0   \n",
       "38                    Queensland          5000.0                NaN   \n",
       "39               New South Wales        800000.0           990000.0   \n",
       "41                      Victoria           400.0              990.0   \n",
       "46               New South Wales        753314.0          1861480.0   \n",
       "48  Australian Capital Territory        160000.0           400000.0   \n",
       "49                      Victoria       1300000.0          3200000.0   \n",
       "51               South Australia         77964.0           192650.0   \n",
       "53                      Victoria        160000.0           400000.0   \n",
       "65                      Victoria        450000.0          1100000.0   \n",
       "66             Western Australia          1540.0                NaN   \n",
       "67             Western Australia         58550.0                NaN   \n",
       "68                      Tasmania         20000.0            49000.0   \n",
       "69               New South Wales         54000.0           130000.0   \n",
       "70               New South Wales        120000.0           250000.0   \n",
       "72             Western Australia           650.0                NaN   \n",
       "83                    Nationwide      18626000.0         46030000.0   \n",
       "\n",
       "    fatalities  homes destroyed  other buildings destroyed  cattle sheep  \\\n",
       "9          4.0            158.0                       12.0           NaN   \n",
       "15        62.0           1293.0                        0.0           NaN   \n",
       "17        14.0            150.0                        5.0           NaN   \n",
       "25         4.0            116.0                      340.0           NaN   \n",
       "30         NaN             51.0                        1.0           NaN   \n",
       "31         3.0              0.0                        0.0           NaN   \n",
       "32        75.0           2400.0                        0.0           NaN   \n",
       "35         5.0              0.0                        0.0           NaN   \n",
       "38         NaN             23.0                        NaN           NaN   \n",
       "39         4.0            225.0                        0.0           NaN   \n",
       "41         3.0             41.0                        0.0           NaN   \n",
       "46         0.0            121.0                        0.0           NaN   \n",
       "48         4.0            500.0                        0.0           NaN   \n",
       "49         0.0             41.0                      213.0           NaN   \n",
       "51         9.0             93.0                        0.0           NaN   \n",
       "53         4.0             57.0                      359.0       63243.0   \n",
       "65       173.0           2029.0                     2000.0           NaN   \n",
       "66         NaN            110.0                        NaN           NaN   \n",
       "67         NaN            246.0                        1.0           NaN   \n",
       "68         1.0              0.0                      170.0           NaN   \n",
       "69         0.0             53.0                      118.0           NaN   \n",
       "70         1.0            208.0                       40.0           NaN   \n",
       "72         1.0              NaN                        NaN           NaN   \n",
       "83        34.0           2600.0                     6000.0           NaN   \n",
       "\n",
       "    livestock approx value loss  \n",
       "9         NaN        £1,000,000  \n",
       "15        NaN          14000000  \n",
       "17        NaN           3000000  \n",
       "25        NaN           9000000  \n",
       "30        NaN          13000000  \n",
       "31        NaN           3000000  \n",
       "32    19300.0         176000000  \n",
       "35    40000.0          25000000  \n",
       "38        NaN          59100000  \n",
       "39        NaN          59000000  \n",
       "41        NaN          29000000  \n",
       "46        NaN          69000000  \n",
       "48        NaN         350000000  \n",
       "49        NaN          12000000  \n",
       "51        NaN          27700000  \n",
       "53     1021.0          22400000  \n",
       "65        NaN        1070000000  \n",
       "66        NaN          35000000  \n",
       "67        NaN          53000000  \n",
       "68        NaN          87100000  \n",
       "69        NaN          35000000  \n",
       "70        NaN         183400000  \n",
       "72        NaN          15000000  \n",
       "83        NaN        2300000000  "
      ],
      "text/html": "<div>\n<style scoped>\n    .dataframe tbody tr th:only-of-type {\n        vertical-align: middle;\n    }\n\n    .dataframe tbody tr th {\n        vertical-align: top;\n    }\n\n    .dataframe thead th {\n        text-align: right;\n    }\n</style>\n<table border=\"1\" class=\"dataframe\">\n  <thead>\n    <tr style=\"text-align: right;\">\n      <th></th>\n      <th>year</th>\n      <th>description</th>\n      <th>state</th>\n      <th>area burned ha</th>\n      <th>area burned acres</th>\n      <th>fatalities</th>\n      <th>homes destroyed</th>\n      <th>other buildings destroyed</th>\n      <th>cattle sheep</th>\n      <th>livestock</th>\n      <th>approx value loss</th>\n    </tr>\n  </thead>\n  <tbody>\n    <tr>\n      <th>9</th>\n      <td>1957</td>\n      <td>1957 Grose Valley bushfire, Blue Mountains</td>\n      <td>New South Wales</td>\n      <td>2000000.0</td>\n      <td>NaN</td>\n      <td>4.0</td>\n      <td>158.0</td>\n      <td>12.0</td>\n      <td>NaN</td>\n      <td>NaN</td>\n      <td>£1,000,000</td>\n    </tr>\n    <tr>\n      <th>15</th>\n      <td>1967</td>\n      <td>Black Tuesday bushfires</td>\n      <td>Tasmania</td>\n      <td>264000.0</td>\n      <td>650000.0</td>\n      <td>62.0</td>\n      <td>1293.0</td>\n      <td>0.0</td>\n      <td>NaN</td>\n      <td>NaN</td>\n      <td>14000000</td>\n    </tr>\n    <tr>\n      <th>17</th>\n      <td>1968</td>\n      <td>1968 Blue Mountains Bushfire</td>\n      <td>New South Wales</td>\n      <td>1500000.0</td>\n      <td>NaN</td>\n      <td>14.0</td>\n      <td>150.0</td>\n      <td>5.0</td>\n      <td>NaN</td>\n      <td>NaN</td>\n      <td>3000000</td>\n    </tr>\n    <tr>\n      <th>25</th>\n      <td>1977</td>\n      <td>Western Districts bushfires</td>\n      <td>Victoria</td>\n      <td>103000.0</td>\n      <td>250000.0</td>\n      <td>4.0</td>\n      <td>116.0</td>\n      <td>340.0</td>\n      <td>NaN</td>\n      <td>NaN</td>\n      <td>9000000</td>\n    </tr>\n    <tr>\n      <th>30</th>\n      <td>1980</td>\n      <td>Mt Lofty Ranges</td>\n      <td>South Australia</td>\n      <td>8000.0</td>\n      <td>NaN</td>\n      <td>NaN</td>\n      <td>51.0</td>\n      <td>1.0</td>\n      <td>NaN</td>\n      <td>NaN</td>\n      <td>13000000</td>\n    </tr>\n    <tr>\n      <th>31</th>\n      <td>1983</td>\n      <td>Grays Point bushfire</td>\n      <td>New South Wales</td>\n      <td>60000.0</td>\n      <td>NaN</td>\n      <td>3.0</td>\n      <td>0.0</td>\n      <td>0.0</td>\n      <td>NaN</td>\n      <td>NaN</td>\n      <td>3000000</td>\n    </tr>\n    <tr>\n      <th>32</th>\n      <td>1983</td>\n      <td>Ash Wednesday bushfires</td>\n      <td>South Australia</td>\n      <td>418000.0</td>\n      <td>1030000.0</td>\n      <td>75.0</td>\n      <td>2400.0</td>\n      <td>0.0</td>\n      <td>NaN</td>\n      <td>19300.0</td>\n      <td>176000000</td>\n    </tr>\n    <tr>\n      <th>35</th>\n      <td>1985</td>\n      <td>1984 - 85 New South Wales bushfires</td>\n      <td>New South Wales</td>\n      <td>2484000.0</td>\n      <td>6120000.0</td>\n      <td>5.0</td>\n      <td>0.0</td>\n      <td>0.0</td>\n      <td>NaN</td>\n      <td>40000.0</td>\n      <td>25000000</td>\n    </tr>\n    <tr>\n      <th>38</th>\n      <td>1994</td>\n      <td>Beerburrum State Forest and urban fires along ...</td>\n      <td>Queensland</td>\n      <td>5000.0</td>\n      <td>NaN</td>\n      <td>NaN</td>\n      <td>23.0</td>\n      <td>NaN</td>\n      <td>NaN</td>\n      <td>NaN</td>\n      <td>59100000</td>\n    </tr>\n    <tr>\n      <th>39</th>\n      <td>1994</td>\n      <td>1994 Eastern seaboard fires</td>\n      <td>New South Wales</td>\n      <td>800000.0</td>\n      <td>990000.0</td>\n      <td>4.0</td>\n      <td>225.0</td>\n      <td>0.0</td>\n      <td>NaN</td>\n      <td>NaN</td>\n      <td>59000000</td>\n    </tr>\n    <tr>\n      <th>41</th>\n      <td>1997</td>\n      <td>Dandenongs bushfire</td>\n      <td>Victoria</td>\n      <td>400.0</td>\n      <td>990.0</td>\n      <td>3.0</td>\n      <td>41.0</td>\n      <td>0.0</td>\n      <td>NaN</td>\n      <td>NaN</td>\n      <td>29000000</td>\n    </tr>\n    <tr>\n      <th>46</th>\n      <td>2001</td>\n      <td>Black Christmas bushfires</td>\n      <td>New South Wales</td>\n      <td>753314.0</td>\n      <td>1861480.0</td>\n      <td>0.0</td>\n      <td>121.0</td>\n      <td>0.0</td>\n      <td>NaN</td>\n      <td>NaN</td>\n      <td>69000000</td>\n    </tr>\n    <tr>\n      <th>48</th>\n      <td>2003</td>\n      <td>2003 Canberra bushfires</td>\n      <td>Australian Capital Territory</td>\n      <td>160000.0</td>\n      <td>400000.0</td>\n      <td>4.0</td>\n      <td>500.0</td>\n      <td>0.0</td>\n      <td>NaN</td>\n      <td>NaN</td>\n      <td>350000000</td>\n    </tr>\n    <tr>\n      <th>49</th>\n      <td>2003</td>\n      <td>2003 Eastern Victorian alpine bushfires</td>\n      <td>Victoria</td>\n      <td>1300000.0</td>\n      <td>3200000.0</td>\n      <td>0.0</td>\n      <td>41.0</td>\n      <td>213.0</td>\n      <td>NaN</td>\n      <td>NaN</td>\n      <td>12000000</td>\n    </tr>\n    <tr>\n      <th>51</th>\n      <td>2005</td>\n      <td>2005 Eyre Peninsula bushfire</td>\n      <td>South Australia</td>\n      <td>77964.0</td>\n      <td>192650.0</td>\n      <td>9.0</td>\n      <td>93.0</td>\n      <td>0.0</td>\n      <td>NaN</td>\n      <td>NaN</td>\n      <td>27700000</td>\n    </tr>\n    <tr>\n      <th>53</th>\n      <td>2005</td>\n      <td>2005 Victorian bushfires</td>\n      <td>Victoria</td>\n      <td>160000.0</td>\n      <td>400000.0</td>\n      <td>4.0</td>\n      <td>57.0</td>\n      <td>359.0</td>\n      <td>63243.0</td>\n      <td>1021.0</td>\n      <td>22400000</td>\n    </tr>\n    <tr>\n      <th>65</th>\n      <td>2009</td>\n      <td>Black Saturday bushfires</td>\n      <td>Victoria</td>\n      <td>450000.0</td>\n      <td>1100000.0</td>\n      <td>173.0</td>\n      <td>2029.0</td>\n      <td>2000.0</td>\n      <td>NaN</td>\n      <td>NaN</td>\n      <td>1070000000</td>\n    </tr>\n    <tr>\n      <th>66</th>\n      <td>2011</td>\n      <td>Perth Hills, Western Australia 2011</td>\n      <td>Western Australia</td>\n      <td>1540.0</td>\n      <td>NaN</td>\n      <td>NaN</td>\n      <td>110.0</td>\n      <td>NaN</td>\n      <td>NaN</td>\n      <td>NaN</td>\n      <td>35000000</td>\n    </tr>\n    <tr>\n      <th>67</th>\n      <td>2011</td>\n      <td>Augusta and Margaret River fires</td>\n      <td>Western Australia</td>\n      <td>58550.0</td>\n      <td>NaN</td>\n      <td>NaN</td>\n      <td>246.0</td>\n      <td>1.0</td>\n      <td>NaN</td>\n      <td>NaN</td>\n      <td>53000000</td>\n    </tr>\n    <tr>\n      <th>68</th>\n      <td>2013</td>\n      <td>Tasmanian bushfires</td>\n      <td>Tasmania</td>\n      <td>20000.0</td>\n      <td>49000.0</td>\n      <td>1.0</td>\n      <td>0.0</td>\n      <td>170.0</td>\n      <td>NaN</td>\n      <td>NaN</td>\n      <td>87100000</td>\n    </tr>\n    <tr>\n      <th>69</th>\n      <td>2013</td>\n      <td>Warrumbungle bushfire</td>\n      <td>New South Wales</td>\n      <td>54000.0</td>\n      <td>130000.0</td>\n      <td>0.0</td>\n      <td>53.0</td>\n      <td>118.0</td>\n      <td>NaN</td>\n      <td>NaN</td>\n      <td>35000000</td>\n    </tr>\n    <tr>\n      <th>70</th>\n      <td>2013</td>\n      <td>2013 New South Wales bushfires</td>\n      <td>New South Wales</td>\n      <td>120000.0</td>\n      <td>250000.0</td>\n      <td>1.0</td>\n      <td>208.0</td>\n      <td>40.0</td>\n      <td>NaN</td>\n      <td>NaN</td>\n      <td>183400000</td>\n    </tr>\n    <tr>\n      <th>72</th>\n      <td>2014</td>\n      <td>Preth Hills, Western Australia 2014</td>\n      <td>Western Australia</td>\n      <td>650.0</td>\n      <td>NaN</td>\n      <td>1.0</td>\n      <td>NaN</td>\n      <td>NaN</td>\n      <td>NaN</td>\n      <td>NaN</td>\n      <td>15000000</td>\n    </tr>\n    <tr>\n      <th>83</th>\n      <td>2020</td>\n      <td>2019–20 Australian bushfire season (Black Summer)</td>\n      <td>Nationwide</td>\n      <td>18626000.0</td>\n      <td>46030000.0</td>\n      <td>34.0</td>\n      <td>2600.0</td>\n      <td>6000.0</td>\n      <td>NaN</td>\n      <td>NaN</td>\n      <td>2300000000</td>\n    </tr>\n  </tbody>\n</table>\n</div>"
     },
     "metadata": {},
     "execution_count": 22
    }
   ],
   "source": [
    "value_loss_df"
   ]
  },
  {
   "cell_type": "code",
   "execution_count": 23,
   "metadata": {},
   "outputs": [],
   "source": [
    "sum_loss = value_loss_df.groupby('year').sum()"
   ]
  },
  {
   "cell_type": "code",
   "execution_count": null,
   "metadata": {},
   "outputs": [],
   "source": [
    "# need to escalate value loss with CPI to make it comparable"
   ]
  }
 ]
}