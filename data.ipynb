{
 "metadata": {
  "language_info": {
   "codemirror_mode": {
    "name": "ipython",
    "version": 3
   },
   "file_extension": ".py",
   "mimetype": "text/x-python",
   "name": "python",
   "nbconvert_exporter": "python",
   "pygments_lexer": "ipython3",
   "version": "3.6.10-final"
  },
  "orig_nbformat": 2,
  "kernelspec": {
   "name": "python3",
   "display_name": "Python 3.6.10 64-bit ('PythonData': conda)",
   "metadata": {
    "interpreter": {
     "hash": "4e16bc90bb1be4fcd3e766e2f5d73f05719f516a7206bf1e9e77281fd34acfc0"
    }
   }
  }
 },
 "nbformat": 4,
 "nbformat_minor": 2,
 "cells": [
  {
   "cell_type": "code",
   "execution_count": null,
   "metadata": {},
   "outputs": [],
   "source": [
    "# Temperature data - Collins\n",
    "import pandas as pd \n",
    "import csv\n",
    "import os\n",
    "import matplotlib.pyplot as plt"
   ]
  },
  {
   "cell_type": "code",
   "execution_count": null,
   "metadata": {},
   "outputs": [],
   "source": [
    "# Import CSV\n",
    "file = '/Users/bintucolley/disney-donut-project/Resources/avgtemp1901-2016.csv'\n",
    "df_temp = pd.read_csv(file)\n",
    "df_temp.head"
   ]
  },
  {
   "cell_type": "code",
   "execution_count": null,
   "metadata": {},
   "outputs": [],
   "source": [
    "# Display columns\n",
    "df_temp.columns"
   ]
  },
  {
   "cell_type": "code",
   "execution_count": null,
   "metadata": {},
   "outputs": [],
   "source": [
    "# Renaming columns \n",
    "data_temp = df_temp.rename(columns={\"Temperature - (Celsius)\":\"Mean Temperature(Celcius)\",\" Statistics\":\"Months\",\" Year\":\"Year\"})\n",
    "\n",
    "data_temp"
   ]
  },
  {
   "cell_type": "code",
   "execution_count": null,
   "metadata": {},
   "outputs": [],
   "source": [
    "# Removing the average on the Months\n",
    "sliced_column = data_temp['Months'].str.slice(stop = 4)\n",
    "sliced_column\n",
    "data_temp[\"Months\"] = sliced_column\n",
    "data_temp[\"Months\"]"
   ]
  },
  {
   "cell_type": "code",
   "execution_count": null,
   "metadata": {},
   "outputs": [],
   "source": [
    "# Delete Redundant Columns\n",
    "del data_temp[' Country']\n",
    "del data_temp[' ISO3']\n",
    "# Filter to 10 year Dataset\n",
    "data_temp\n",
    "data_temp_1986 = data_temp.loc[data_temp['Year'] > 1985, :]\n",
    "# Reset index\n",
    "data_temp_1986_2016 = data_temp_1986.reset_index(drop=True)\n",
    "data_temp_1986_2016\n"
   ]
  },
  {
   "cell_type": "code",
   "execution_count": null,
   "metadata": {},
   "outputs": [],
   "source": [
    "# Group data by year and display stats\n",
    "group_data_temp = data_temp_1986_2016.groupby(data_temp_1986_2016['Year'])\n",
    "stats_temp = group_data_temp.describe()\n",
    "stats_temp"
   ]
  },
  {
   "cell_type": "code",
   "execution_count": null,
   "metadata": {},
   "outputs": [],
   "source": [
    "# Mean for each year\n",
    "mean_temperature = group_data_temp.mean()\n"
   ]
  },
  {
   "cell_type": "code",
   "execution_count": null,
   "metadata": {},
   "outputs": [],
   "source": [
    "# Reset Index\n",
    "new_mean_temperature = mean_temperature.reset_index()\n",
    "new_mean_temperature"
   ]
  },
  {
   "cell_type": "code",
   "execution_count": null,
   "metadata": {},
   "outputs": [],
   "source": [
    "plt.scatter(new_mean_temperature['Year'],new_mean_temperature['Mean Temperature(Celcius)'])\n",
    "plt.xlabel('Year')\n",
    "plt.ylabel('Mean Temperature(Celcius)')\n",
    "plt.title('Mean Temperature in Australia (1986 - 2016)')\n"
   ]
  },
  {
   "cell_type": "code",
   "execution_count": null,
   "metadata": {},
   "outputs": [],
   "source": [
    "# Rainfall data - Thierry\n"
   ]
  },
  {
   "cell_type": "code",
   "execution_count": null,
   "metadata": {},
   "outputs": [],
   "source": [
    "# CO2 data - Jim\n"
   ]
  },
  {
   "cell_type": "code",
   "execution_count": null,
   "metadata": {},
   "outputs": [],
   "source": [
    "# Deforestation data - Spyro\n"
   ]
  },
  {
   "cell_type": "code",
   "execution_count": null,
   "metadata": {},
   "outputs": [],
   "source": [
    "# Bushfire incident data - Vanessa\n"
   ]
  }
 ]
}